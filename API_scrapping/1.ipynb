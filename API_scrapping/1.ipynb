{
 "cells": [
  {
   "cell_type": "code",
   "execution_count": 1,
   "metadata": {},
   "outputs": [],
   "source": [
    "# Read API credentials from .env file\n",
    "\n",
    "import os\n",
    "\n",
    "client_id = os.environ['CLIENT_ID']\n",
    "client_secret = os.environ['CLIENT_SECRET']\n",
    "user_agent = os.environ['USER_AGENT']"
   ]
  },
  {
   "cell_type": "code",
   "execution_count": 40,
   "metadata": {},
   "outputs": [],
   "source": [
    "import csv\n",
    "\n",
    "def create_dict_posts(posts):\n",
    "    result = {}\n",
    "    posts_list = []\n",
    "    for post in posts:\n",
    "        result[\"Title\"] = post.title\n",
    "        result[\"Score\"] = post.score\n",
    "        result[\"Autor\"] = post.author\n",
    "        result[\"Time\"] = post.created\n",
    "        result[\"Comments\"] = post.num_comments\n",
    "        result[\"UpvoteRatio\"] = post.upvote_ratio\n",
    "        result[\"PostId\"] = post.id\n",
    "        result[\"Subreddit\"] = post.subreddit.display_name\n",
    "        result[\"is_nsfw\"] = post.over_18\n",
    "        result[\"SelfText\"] = post.selftext\n",
    "        result[\"IsSelfText\"] = post.is_self\n",
    "        result[\"IsPinned\"] = post.pinned\n",
    "        result[\"IsStickied\"] = post.stickied\n",
    "        result[\"IsPinned\"] = post.pinned\n",
    "        result[\"IsLocked\"] = post.locked\n",
    "        posts_list.append(result)\n",
    "        result = {}\n",
    "    return posts_list\n",
    "\n",
    "def store_in_CSV(file_name, posts):\n",
    "    fields = ['Title', 'Score', 'Autor', 'Time', 'Comments', 'UpvoteRatio', 'PostId', 'Subreddit', 'is_nsfw', 'SelfText', 'IsSelfText', 'IsPinned', 'IsStickied', 'IsLocked']\n",
    "    with open(file_name, 'w') as csvfile:\n",
    "        writer = csv.DictWriter(csvfile, fieldnames=fields)\n",
    "        writer.writeheader()\n",
    "        writer.writerows(posts)                           \n",
    "    "
   ]
  },
  {
   "cell_type": "code",
   "execution_count": 3,
   "metadata": {},
   "outputs": [],
   "source": [
    "import praw\n",
    "\n",
    "# Create a Reddit API client with your credentials\n",
    "reddit = praw.Reddit(\n",
    "    client_id=client_id,\n",
    "    client_secret=client_secret,\n",
    "    user_agent=user_agent\n",
    ")"
   ]
  },
  {
   "cell_type": "code",
   "execution_count": 45,
   "metadata": {},
   "outputs": [],
   "source": [
    "# search Amazon\n",
    "search_results = reddit.subreddit('all').search('working at amazon', limit=None)"
   ]
  },
  {
   "cell_type": "code",
   "execution_count": 46,
   "metadata": {},
   "outputs": [],
   "source": [
    "amazon_posts = create_dict_posts(search_results)\n",
    "store_in_CSV('amazon.csv', amazon_posts)"
   ]
  },
  {
   "cell_type": "code",
   "execution_count": 47,
   "metadata": {},
   "outputs": [
    {
     "data": {
      "text/html": [
       "<div>\n",
       "<style scoped>\n",
       "    .dataframe tbody tr th:only-of-type {\n",
       "        vertical-align: middle;\n",
       "    }\n",
       "\n",
       "    .dataframe tbody tr th {\n",
       "        vertical-align: top;\n",
       "    }\n",
       "\n",
       "    .dataframe thead th {\n",
       "        text-align: right;\n",
       "    }\n",
       "</style>\n",
       "<table border=\"1\" class=\"dataframe\">\n",
       "  <thead>\n",
       "    <tr style=\"text-align: right;\">\n",
       "      <th></th>\n",
       "      <th>Title</th>\n",
       "      <th>Score</th>\n",
       "      <th>Autor</th>\n",
       "      <th>Time</th>\n",
       "      <th>Comments</th>\n",
       "      <th>UpvoteRatio</th>\n",
       "      <th>PostId</th>\n",
       "      <th>Subreddit</th>\n",
       "      <th>is_nsfw</th>\n",
       "      <th>SelfText</th>\n",
       "      <th>IsSelfText</th>\n",
       "      <th>IsPinned</th>\n",
       "      <th>IsStickied</th>\n",
       "      <th>IsLocked</th>\n",
       "    </tr>\n",
       "  </thead>\n",
       "  <tbody>\n",
       "    <tr>\n",
       "      <th>0</th>\n",
       "      <td>I can't fucking stand working at Amazon</td>\n",
       "      <td>350</td>\n",
       "      <td>tacocravr_</td>\n",
       "      <td>1.679421e+09</td>\n",
       "      <td>173</td>\n",
       "      <td>0.91</td>\n",
       "      <td>11xoblw</td>\n",
       "      <td>antiwork</td>\n",
       "      <td>False</td>\n",
       "      <td>I have ADHD. I work at Amazon as a picker. I a...</td>\n",
       "      <td>True</td>\n",
       "      <td>False</td>\n",
       "      <td>False</td>\n",
       "      <td>False</td>\n",
       "    </tr>\n",
       "    <tr>\n",
       "      <th>1</th>\n",
       "      <td>I hate working at Amazon</td>\n",
       "      <td>39</td>\n",
       "      <td>Journalist_Willing</td>\n",
       "      <td>1.677656e+09</td>\n",
       "      <td>42</td>\n",
       "      <td>0.77</td>\n",
       "      <td>11exn5j</td>\n",
       "      <td>AmazonFC</td>\n",
       "      <td>False</td>\n",
       "      <td>I'm not certain if it's just how things are go...</td>\n",
       "      <td>True</td>\n",
       "      <td>False</td>\n",
       "      <td>False</td>\n",
       "      <td>False</td>\n",
       "    </tr>\n",
       "    <tr>\n",
       "      <th>2</th>\n",
       "      <td>Anyone actually like working at Amazon?</td>\n",
       "      <td>52</td>\n",
       "      <td>DarthGabe2142</td>\n",
       "      <td>1.635480e+09</td>\n",
       "      <td>130</td>\n",
       "      <td>0.87</td>\n",
       "      <td>qi45hh</td>\n",
       "      <td>AmazonFC</td>\n",
       "      <td>False</td>\n",
       "      <td>Hello all,\\n\\nDoes anyone here like working at...</td>\n",
       "      <td>True</td>\n",
       "      <td>False</td>\n",
       "      <td>False</td>\n",
       "      <td>False</td>\n",
       "    </tr>\n",
       "    <tr>\n",
       "      <th>3</th>\n",
       "      <td>Is working at Amazon really as bad as people say?</td>\n",
       "      <td>30</td>\n",
       "      <td>a1xndriaa</td>\n",
       "      <td>1.619921e+09</td>\n",
       "      <td>107</td>\n",
       "      <td>0.89</td>\n",
       "      <td>n2wqup</td>\n",
       "      <td>AmazonFC</td>\n",
       "      <td>False</td>\n",
       "      <td>I am asking because I've been unemployed for a...</td>\n",
       "      <td>True</td>\n",
       "      <td>False</td>\n",
       "      <td>False</td>\n",
       "      <td>False</td>\n",
       "    </tr>\n",
       "    <tr>\n",
       "      <th>4</th>\n",
       "      <td>Is working at amazon worth it or nah?</td>\n",
       "      <td>4</td>\n",
       "      <td>M6_20</td>\n",
       "      <td>1.675802e+09</td>\n",
       "      <td>51</td>\n",
       "      <td>0.59</td>\n",
       "      <td>10wc4e6</td>\n",
       "      <td>AmazonFC</td>\n",
       "      <td>False</td>\n",
       "      <td>I don’t have a job and Im looking and obviousl...</td>\n",
       "      <td>True</td>\n",
       "      <td>False</td>\n",
       "      <td>False</td>\n",
       "      <td>False</td>\n",
       "    </tr>\n",
       "  </tbody>\n",
       "</table>\n",
       "</div>"
      ],
      "text/plain": [
       "                                               Title  Score  \\\n",
       "0            I can't fucking stand working at Amazon    350   \n",
       "1                           I hate working at Amazon     39   \n",
       "2            Anyone actually like working at Amazon?     52   \n",
       "3  Is working at Amazon really as bad as people say?     30   \n",
       "4              Is working at amazon worth it or nah?      4   \n",
       "\n",
       "                Autor          Time  Comments  UpvoteRatio   PostId Subreddit  \\\n",
       "0          tacocravr_  1.679421e+09       173         0.91  11xoblw  antiwork   \n",
       "1  Journalist_Willing  1.677656e+09        42         0.77  11exn5j  AmazonFC   \n",
       "2       DarthGabe2142  1.635480e+09       130         0.87   qi45hh  AmazonFC   \n",
       "3           a1xndriaa  1.619921e+09       107         0.89   n2wqup  AmazonFC   \n",
       "4               M6_20  1.675802e+09        51         0.59  10wc4e6  AmazonFC   \n",
       "\n",
       "   is_nsfw                                           SelfText  IsSelfText  \\\n",
       "0    False  I have ADHD. I work at Amazon as a picker. I a...        True   \n",
       "1    False  I'm not certain if it's just how things are go...        True   \n",
       "2    False  Hello all,\\n\\nDoes anyone here like working at...        True   \n",
       "3    False  I am asking because I've been unemployed for a...        True   \n",
       "4    False  I don’t have a job and Im looking and obviousl...        True   \n",
       "\n",
       "   IsPinned  IsStickied  IsLocked  \n",
       "0     False       False     False  \n",
       "1     False       False     False  \n",
       "2     False       False     False  \n",
       "3     False       False     False  \n",
       "4     False       False     False  "
      ]
     },
     "execution_count": 47,
     "metadata": {},
     "output_type": "execute_result"
    }
   ],
   "source": [
    "import pandas as pd\n",
    "\n",
    "df = pd.read_csv('amazon.csv')\n",
    "df.head()"
   ]
  },
  {
   "cell_type": "code",
   "execution_count": 39,
   "metadata": {},
   "outputs": [
    {
     "data": {
      "text/plain": [
       "\"I have ADHD. I work at Amazon as a picker. I am in fucking hell. 10 hours of nothing but the sound of robots and conveyors belts, 4 days a week. I am currently on the verge of a panic attack, with 5 more hours to go. This job is the best opportunity I've gotten in a while, but it's so fucking hard not to take VTO or just straight up quit every single fucking day.\\n\\nI don't know what to do. Nothing I do distracts me enough. I even tried putting an earbud in and it didn't stop me from thinking about the time. I covered up the clock, still couldn't stop thinking about it. Every minute is a year, every hour is a lifetime, I'm so fucking tired and bored and sweaty and I just want to go home but I can't afford to leave this job.\\n\\nI have an appt tomorrow to talk about ADHD meds with a psych but I don't even know if they'll help or if I'll be able to afford them.\\n\\nI wish I could just zone out and do my job but I just can't seem to stop counting every second.\""
      ]
     },
     "execution_count": 39,
     "metadata": {},
     "output_type": "execute_result"
    }
   ],
   "source": [
    "df['SelfText'][0]"
   ]
  },
  {
   "cell_type": "code",
   "execution_count": 48,
   "metadata": {},
   "outputs": [
    {
     "data": {
      "text/plain": [
       "(222, 14)"
      ]
     },
     "execution_count": 48,
     "metadata": {},
     "output_type": "execute_result"
    }
   ],
   "source": [
    "df.shape"
   ]
  }
 ],
 "metadata": {
  "kernelspec": {
   "display_name": "Python 3",
   "language": "python",
   "name": "python3"
  },
  "language_info": {
   "codemirror_mode": {
    "name": "ipython",
    "version": 3
   },
   "file_extension": ".py",
   "mimetype": "text/x-python",
   "name": "python",
   "nbconvert_exporter": "python",
   "pygments_lexer": "ipython3",
   "version": "3.10.9"
  }
 },
 "nbformat": 4,
 "nbformat_minor": 2
}
