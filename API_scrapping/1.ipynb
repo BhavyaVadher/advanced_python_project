{
 "cells": [
  {
   "cell_type": "code",
   "execution_count": 1,
   "metadata": {},
   "outputs": [
    {
     "name": "stderr",
     "output_type": "stream",
     "text": [
      "[nltk_data] Downloading package punkt to\n",
      "[nltk_data]     C:\\Users\\vicky\\AppData\\Roaming\\nltk_data...\n",
      "[nltk_data]   Unzipping tokenizers\\punkt.zip.\n"
     ]
    },
    {
     "data": {
      "text/plain": [
       "True"
      ]
     },
     "execution_count": 1,
     "metadata": {},
     "output_type": "execute_result"
    }
   ],
   "source": [
    "import nltk\n",
    "nltk.download('punkt')"
   ]
  },
  {
   "cell_type": "code",
   "execution_count": 2,
   "metadata": {},
   "outputs": [
    {
     "name": "stdout",
     "output_type": "stream",
     "text": [
      "['A', 'long', 'time', 'ago', 'in', 'a', 'galaxy', 'far', ',', 'far', 'away…']\n"
     ]
    }
   ],
   "source": [
    "import nltk\n",
    "sentence = \"A long time ago in a galaxy far, far away…\"\n",
    "tokens = nltk.word_tokenize(sentence)\n",
    "print(tokens)"
   ]
  },
  {
   "cell_type": "code",
   "execution_count": 3,
   "metadata": {},
   "outputs": [
    {
     "name": "stderr",
     "output_type": "stream",
     "text": [
      "[nltk_data] Downloading package movie_reviews to\n",
      "[nltk_data]     C:\\Users\\vicky\\AppData\\Roaming\\nltk_data...\n",
      "[nltk_data]   Unzipping corpora\\movie_reviews.zip.\n"
     ]
    }
   ],
   "source": [
    "import nltk\n",
    "nltk.download('movie_reviews')\n",
    "from nltk.corpus import movie_reviews"
   ]
  },
  {
   "cell_type": "code",
   "execution_count": 3,
   "metadata": {},
   "outputs": [],
   "source": [
    "import praw\n",
    "\n",
    "# Replace these with your Reddit API credentials\n",
    "client_id = 'id'\n",
    "client_secret = 'secret'\n",
    "user_agent = \"script:sentiment-analysis:v1.0 (by username)\"\n",
    "\n",
    "# Create a Reddit API client with your credentials\n",
    "reddit = praw.Reddit(\n",
    "    client_id=client_id,\n",
    "    client_secret=client_secret,\n",
    "    user_agent=user_agent\n",
    ")\n"
   ]
  },
  {
   "cell_type": "code",
   "execution_count": 13,
   "metadata": {},
   "outputs": [
    {
     "name": "stderr",
     "output_type": "stream",
     "text": [
      "C:\\Users\\vicky\\AppData\\Local\\Temp\\ipykernel_24168\\3033407371.py:20: DeprecationWarning: Positional arguments for 'BaseListingMixin.top' will no longer be supported in PRAW 8.\n",
      "Call this function with 'time_filter' as a keyword argument.\n",
      "  top_posts_of_the_day = sub.top('day')\n",
      "C:\\Users\\vicky\\AppData\\Local\\Temp\\ipykernel_24168\\3033407371.py:22: DeprecationWarning: Positional arguments for 'BaseListingMixin.controversial' will no longer be supported in PRAW 8.\n",
      "Call this function with 'time_filter' as a keyword argument.\n",
      "  controversial_posts = sub.controversial('month', limit=10)\n"
     ]
    },
    {
     "name": "stdout",
     "output_type": "stream",
     "text": [
      "TITLE: I don't understand what python or coding even does\n",
      "AUTHOR: Lost-_-swordsman\n",
      "CREATED: 1696062745.0\n",
      "COMMENTS: 87\n",
      "UPS: 0\n",
      "DOWNS: 0\n",
      "URL: https://www.reddit.com/r/learnpython/comments/16w1jk4/i_dont_understand_what_python_or_coding_even_does/\n",
      "TITLE: I'm about a month into my coding journey and I've already hit a crossroad. Python or C++?\n",
      "AUTHOR: Lanochu\n",
      "CREATED: 1694819271.0\n",
      "COMMENTS: 30\n",
      "UPS: 1\n",
      "DOWNS: 0\n",
      "URL: https://www.reddit.com/r/learnpython/comments/16jrux5/im_about_a_month_into_my_coding_journey_and_ive/\n",
      "TITLE: Why does Python seem so complicated?\n",
      "AUTHOR: Sonoshitthereiwas\n",
      "CREATED: 1695073929.0\n",
      "COMMENTS: 46\n",
      "UPS: 0\n",
      "DOWNS: 0\n",
      "URL: https://www.reddit.com/r/learnpython/comments/16m8jrq/why_does_python_seem_so_complicated/\n",
      "TITLE: Rent : One of the reason why people like me give up programming is...\n",
      "AUTHOR: Crg29\n",
      "CREATED: 1695470282.0\n",
      "COMMENTS: 41\n",
      "UPS: 0\n",
      "DOWNS: 0\n",
      "URL: https://www.reddit.com/r/learnpython/comments/16q2nh2/rent_one_of_the_reason_why_people_like_me_give_up/\n",
      "TITLE: When i type print(int('10.8')) it shows an error but when i type print(float('10.8')) no error is shown..why?\n",
      "AUTHOR: iopjhugyvju\n",
      "CREATED: 1696784008.0\n",
      "COMMENTS: 12\n",
      "UPS: 2\n",
      "DOWNS: 0\n",
      "URL: https://www.reddit.com/r/learnpython/comments/1733yg3/when_i_type_printint108_it_shows_an_error_but/\n",
      "TITLE: How do i protect my code\n",
      "AUTHOR: InterestMeOnReddit\n",
      "CREATED: 1696877770.0\n",
      "COMMENTS: 17\n",
      "UPS: 0\n",
      "DOWNS: 0\n",
      "URL: https://www.reddit.com/r/learnpython/comments/173ztfj/how_do_i_protect_my_code/\n",
      "TITLE: difference between return vs. print?\n",
      "AUTHOR: Affectionate-Lab-683\n",
      "CREATED: 1695587067.0\n",
      "COMMENTS: 15\n",
      "UPS: 0\n",
      "DOWNS: 0\n",
      "URL: https://www.reddit.com/r/learnpython/comments/16r7qgy/difference_between_return_vs_print/\n",
      "TITLE: Running Python code even when computer turned off\n",
      "AUTHOR: InTheShades\n",
      "CREATED: 1695952906.0\n",
      "COMMENTS: 16\n",
      "UPS: 2\n",
      "DOWNS: 0\n",
      "URL: https://www.reddit.com/r/learnpython/comments/16uyx4n/running_python_code_even_when_computer_turned_off/\n",
      "TITLE: Python for blockchain development\n",
      "AUTHOR: hernei_the_sensei\n",
      "CREATED: 1695480727.0\n",
      "COMMENTS: 4\n",
      "UPS: 0\n",
      "DOWNS: 0\n",
      "URL: https://www.reddit.com/r/learnpython/comments/16q6hmn/python_for_blockchain_development/\n",
      "TITLE: I need to learn python in 6 days\n",
      "AUTHOR: bounciermedusa\n",
      "CREATED: 1696977686.0\n",
      "COMMENTS: 6\n",
      "UPS: 1\n",
      "DOWNS: 0\n",
      "URL: https://www.reddit.com/r/learnpython/comments/174yf2q/i_need_to_learn_python_in_6_days/\n"
     ]
    }
   ],
   "source": [
    "\n",
    "# Query for a subreddit by name\n",
    "sub = reddit.subreddit('learnpython')\n",
    "\n",
    "# Can query for top posts for a time period, the top 20 posts, or the\n",
    "# 10 most controversial posts of the past month\n",
    "top_posts_of_the_day = sub.top('day')\n",
    "hot_posts = sub.hot(limit=20)\n",
    "controversial_posts = sub.controversial('month', limit=10)\n",
    "\n",
    "# Can also search for use of a keyword\n",
    "nltk_posts = sub.search('nltk')\n",
    "\n",
    "# Sample of some of the more interesting data about a \n",
    "# submission that could make for interesting analysis\n",
    "for submission in controversial_posts:\n",
    "    print(\"TITLE: {}\".format(submission.title))\n",
    "    print(\"AUTHOR: {}\".format(submission.author))\n",
    "    print(\"CREATED: {}\".format(submission.created))\n",
    "    print(\"COMMENTS: {}\".format(submission.num_comments))\n",
    "    print(\"UPS: {}\".format(submission.ups))\n",
    "    print(\"DOWNS: {}\".format(submission.downs))\n",
    "    print(\"URL: {}\".format(submission.url))\n"
   ]
  },
  {
   "cell_type": "code",
   "execution_count": 4,
   "metadata": {},
   "outputs": [],
   "source": [
    "post = \"https://www.reddit.com/r/learnpython/comments/fwhcas/whats_the_difference_between_and_is_not\"\n",
    "\n",
    "# Instead of getting submissions by querying a subreddit, this time\n",
    "# we go directly to a url for the post.\n",
    "submission = reddit.submission(url=post)\n",
    "submission.comments.replace_more(limit=None)\n",
    "\n",
    "# We can get the comments which the API returns as a generator, but\n",
    "# we can turn it into a list.\n",
    "comments = submission.comments.list()"
   ]
  },
  {
   "cell_type": "code",
   "execution_count": 5,
   "metadata": {},
   "outputs": [
    {
     "data": {
      "text/plain": [
       "[Comment(id='fmonppi'),\n",
       " Comment(id='fmo9wgl'),\n",
       " Comment(id='fmodf8h'),\n",
       " Comment(id='fmoa4m8'),\n",
       " Comment(id='fmokgv0'),\n",
       " Comment(id='fmofnfd'),\n",
       " Comment(id='fmogcqt'),\n",
       " Comment(id='fmpt296'),\n",
       " Comment(id='fmoo36g'),\n",
       " Comment(id='fmoupit'),\n",
       " Comment(id='fmqigva'),\n",
       " Comment(id='fmr6smj'),\n",
       " Comment(id='fmog5kc'),\n",
       " Comment(id='fmol0tj'),\n",
       " Comment(id='fmogwee'),\n",
       " Comment(id='fmopvfo'),\n",
       " Comment(id='fmpp0e6'),\n",
       " Comment(id='fmpu1xh'),\n",
       " Comment(id='fmodjk9'),\n",
       " Comment(id='fmp70kh'),\n",
       " Comment(id='fmoitgd'),\n",
       " Comment(id='fmp4p6v'),\n",
       " Comment(id='fmq6ue0'),\n",
       " Comment(id='fmok0zi'),\n",
       " Comment(id='fmol9rx'),\n",
       " Comment(id='fmogto4'),\n",
       " Comment(id='fmoadjc'),\n",
       " Comment(id='fmoafwn'),\n",
       " Comment(id='fmorfvf'),\n",
       " Comment(id='fmoy79g'),\n",
       " Comment(id='fmpvfc4'),\n",
       " Comment(id='fmr3yr6'),\n",
       " Comment(id='fmowszu'),\n",
       " Comment(id='fmruzty'),\n",
       " Comment(id='fmon6e3'),\n",
       " Comment(id='fmoriut'),\n",
       " Comment(id='fmrfofn'),\n",
       " Comment(id='fmoei2e'),\n",
       " Comment(id='fmop77w'),\n",
       " Comment(id='fmr4wwq'),\n",
       " Comment(id='fmpo86u'),\n",
       " Comment(id='fmoixw6'),\n",
       " Comment(id='fmp4ijl'),\n",
       " Comment(id='fmomtv7'),\n",
       " Comment(id='fmomvgl'),\n",
       " Comment(id='fmondsl'),\n",
       " Comment(id='fmpx1p8'),\n",
       " Comment(id='fmoov42'),\n",
       " Comment(id='fmoufxi'),\n",
       " Comment(id='fmogvvw'),\n",
       " Comment(id='fmogzfv'),\n",
       " Comment(id='fmolea6'),\n",
       " Comment(id='fmoi361'),\n",
       " Comment(id='fmobw5o'),\n",
       " Comment(id='fmoi5sb'),\n",
       " Comment(id='fmp84mi'),\n",
       " Comment(id='fmr1ti9'),\n",
       " Comment(id='fmriivq'),\n",
       " Comment(id='fmox0fq'),\n",
       " Comment(id='fmofgn9'),\n",
       " Comment(id='fmog4fr'),\n",
       " Comment(id='fmooau5'),\n",
       " Comment(id='fmqadjy'),\n",
       " Comment(id='fms68ez'),\n",
       " Comment(id='fmppzzd'),\n",
       " Comment(id='fmojbr1'),\n",
       " Comment(id='fmok7f0'),\n",
       " Comment(id='fmood3p'),\n",
       " Comment(id='fmortuy'),\n",
       " Comment(id='fmou1cw'),\n",
       " Comment(id='fmor8xi'),\n",
       " Comment(id='fmoiwtg'),\n",
       " Comment(id='fmplkmo'),\n",
       " Comment(id='fmrii1j'),\n",
       " Comment(id='fmoivg0'),\n",
       " Comment(id='fmoz6kc'),\n",
       " Comment(id='fmph5ix'),\n",
       " Comment(id='fmq4yxs'),\n",
       " Comment(id='fmspvb2'),\n",
       " Comment(id='fmqkuoq'),\n",
       " Comment(id='fmojo3k'),\n",
       " Comment(id='fmot8ky'),\n",
       " Comment(id='fmoz5ab'),\n",
       " Comment(id='fmpk3pn'),\n",
       " Comment(id='fmoxypv'),\n",
       " Comment(id='fmovda5'),\n",
       " Comment(id='fmotihe'),\n",
       " Comment(id='fmouwia'),\n",
       " Comment(id='fmqqw6u'),\n",
       " Comment(id='fmp6cuy'),\n",
       " Comment(id='fmqvkut'),\n",
       " Comment(id='fmsbdm5'),\n",
       " Comment(id='fmpne8h'),\n",
       " Comment(id='fmpq636'),\n",
       " Comment(id='fmpqbw4'),\n",
       " Comment(id='fmqh3s2'),\n",
       " Comment(id='fmql8s3'),\n",
       " Comment(id='fmoy17f'),\n",
       " Comment(id='fmotl0x'),\n",
       " Comment(id='fmp5n7n'),\n",
       " Comment(id='fmpl0i3'),\n",
       " Comment(id='fmoyfml'),\n",
       " Comment(id='fmr19g0'),\n",
       " Comment(id='fmqyjvl'),\n",
       " Comment(id='fmrgux0'),\n",
       " Comment(id='fmpa8dz'),\n",
       " Comment(id='fmpezkj'),\n",
       " Comment(id='fmt8hwm'),\n",
       " Comment(id='fmq4ds9'),\n",
       " Comment(id='fmpwohe'),\n",
       " Comment(id='fmrh8ra'),\n",
       " Comment(id='fmp8b5n'),\n",
       " Comment(id='fmp8v1i'),\n",
       " Comment(id='fmrw74p'),\n",
       " Comment(id='fms155z'),\n",
       " Comment(id='fmphkgj'),\n",
       " Comment(id='fmq5et8'),\n",
       " Comment(id='fmpakzl'),\n",
       " Comment(id='fn4os5k'),\n",
       " Comment(id='fmppsmh'),\n",
       " Comment(id='fn5p22u'),\n",
       " Comment(id='fn6j988'),\n",
       " Comment(id='fn6kvxh'),\n",
       " Comment(id='fn7bxif')]"
      ]
     },
     "execution_count": 5,
     "metadata": {},
     "output_type": "execute_result"
    }
   ],
   "source": [
    "comments"
   ]
  },
  {
   "cell_type": "code",
   "execution_count": null,
   "metadata": {},
   "outputs": [],
   "source": []
  }
 ],
 "metadata": {
  "kernelspec": {
   "display_name": "Python 3",
   "language": "python",
   "name": "python3"
  },
  "language_info": {
   "codemirror_mode": {
    "name": "ipython",
    "version": 3
   },
   "file_extension": ".py",
   "mimetype": "text/x-python",
   "name": "python",
   "nbconvert_exporter": "python",
   "pygments_lexer": "ipython3",
   "version": "3.12.0"
  }
 },
 "nbformat": 4,
 "nbformat_minor": 2
}
