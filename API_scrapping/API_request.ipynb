{
 "cells": [
  {
   "cell_type": "code",
   "execution_count": 1,
   "metadata": {},
   "outputs": [],
   "source": [
    "# Read API credentials from .env file\n",
    "\n",
    "import os\n",
    "import pandas as pd\n",
    "\n",
    "client_id = os.environ['CLIENT_ID']\n",
    "client_secret = os.environ['CLIENT_SECRET']\n",
    "user_agent = os.environ['USER_AGENT']\n",
    "username = os.environ['USER_NAME']\n",
    "password = os.environ['PASSWORD']"
   ]
  },
  {
   "cell_type": "code",
   "execution_count": 59,
   "metadata": {},
   "outputs": [],
   "source": [
    "import csv\n",
    "\n",
    "def create_dict_posts(posts):\n",
    "    result = {}\n",
    "    posts_list = []\n",
    "    for post in posts:\n",
    "        result[\"Title\"] = post.title\n",
    "        result[\"Score\"] = post.score\n",
    "        result[\"Autor\"] = post.author\n",
    "        result[\"Time\"] = post.created\n",
    "        result[\"Comments\"] = post.num_comments\n",
    "        result[\"UpvoteRatio\"] = post.upvote_ratio\n",
    "        result[\"PostId\"] = post.id\n",
    "        result[\"Subreddit\"] = post.subreddit.display_name\n",
    "        result[\"is_nsfw\"] = post.over_18\n",
    "        result[\"SelfText\"] = post.selftext\n",
    "        result[\"IsSelfText\"] = post.is_self\n",
    "        result[\"IsPinned\"] = post.pinned\n",
    "        result[\"IsStickied\"] = post.stickied\n",
    "        result[\"IsPinned\"] = post.pinned\n",
    "        result[\"IsLocked\"] = post.locked\n",
    "        posts_list.append(result)\n",
    "        result = {}\n",
    "    return posts_list\n",
    "\n",
    "def create_dict_posts_top(posts):\n",
    "    result = {}\n",
    "    posts_list = []\n",
    "    for post in posts.top(limit=None):\n",
    "        result[\"Title\"] = post.title\n",
    "        result[\"Score\"] = post.score\n",
    "        result[\"Autor\"] = post.author\n",
    "        result[\"Time\"] = post.created\n",
    "        result[\"Comments\"] = post.num_comments\n",
    "        result[\"UpvoteRatio\"] = post.upvote_ratio\n",
    "        result[\"PostId\"] = post.id\n",
    "        result[\"Subreddit\"] = post.subreddit.display_name\n",
    "        result[\"is_nsfw\"] = post.over_18\n",
    "        result[\"SelfText\"] = post.selftext\n",
    "        result[\"IsSelfText\"] = post.is_self\n",
    "        result[\"IsPinned\"] = post.pinned\n",
    "        result[\"IsStickied\"] = post.stickied\n",
    "        result[\"IsPinned\"] = post.pinned\n",
    "        result[\"IsLocked\"] = post.locked\n",
    "        posts_list.append(result)\n",
    "        result = {}\n",
    "    return posts_list\n",
    "\n",
    "def store_in_CSV(file_name, posts):\n",
    "    fields = ['Title', 'Score', 'Autor', 'Time', 'Comments', 'UpvoteRatio', 'PostId', 'Subreddit', 'is_nsfw', 'SelfText', 'IsSelfText', 'IsPinned', 'IsStickied', 'IsLocked']\n",
    "    with open(file_name, 'a', newline='') as csvfile:\n",
    "        writer = csv.DictWriter(csvfile, fieldnames=fields)\n",
    "        if csvfile.tell() == 0:\n",
    "            writer.writeheader()\n",
    "        writer.writerows(posts)\n",
    "\n",
    "def scrap_dataset(subreddits, file_path, reddit):\n",
    "    for sub in subreddits:\n",
    "        search_results = reddit.subreddit(sub)\n",
    "        posts = create_dict_posts_top(search_results)\n",
    "        store_in_CSV(file_path, posts)\n",
    "    df = pd.read_csv(file_path)\n",
    "    print(df.shape)\n",
    "    return df                          \n",
    "    "
   ]
  },
  {
   "cell_type": "code",
   "execution_count": 26,
   "metadata": {},
   "outputs": [],
   "source": [
    "import requests"
   ]
  },
  {
   "cell_type": "code",
   "execution_count": 15,
   "metadata": {},
   "outputs": [],
   "source": [
    "auth = requests.auth.HTTPBasicAuth(client_id, client_secret)"
   ]
  },
  {
   "cell_type": "code",
   "execution_count": 16,
   "metadata": {},
   "outputs": [
    {
     "name": "stdout",
     "output_type": "stream",
     "text": [
      "<Response [200]>\n"
     ]
    }
   ],
   "source": [
    "data = {\n",
    "    'grant_type': 'password',\n",
    "    'username': username,\n",
    "    'password': password\n",
    "}\n",
    "headers = {'User-Agent': user_agent}\n",
    "res = requests.post('https://www.reddit.com/api/v1/access_token',\n",
    "auth=auth, data=data, headers=headers)\n",
    "print(res)"
   ]
  },
  {
   "cell_type": "code",
   "execution_count": 19,
   "metadata": {},
   "outputs": [
    {
     "data": {
      "text/plain": [
       "<Response [200]>"
      ]
     },
     "execution_count": 19,
     "metadata": {},
     "output_type": "execute_result"
    }
   ],
   "source": [
    "token = res.json()['access_token']\n",
    "headers['Authorization'] = 'bearer {}'.format(token)\n",
    "requests.get('https://oauth.reddit.com/api/v1/me', headers=headers)"
   ]
  },
  {
   "cell_type": "code",
   "execution_count": 54,
   "metadata": {},
   "outputs": [],
   "source": [
    "api = 'https://oauth.reddit.com'\n",
    "res = requests.get('{}/r/askscience/top?t=all'.format(api), headers=headers, params={'limit': '5000', 'after':None})\n",
    "json_res = res.json()"
   ]
  },
  {
   "cell_type": "code",
   "execution_count": 63,
   "metadata": {},
   "outputs": [],
   "source": [
    "def create_dict(data):\n",
    "    result = {}\n",
    "    posts_list = []\n",
    "    for post in data:\n",
    "        post_d = post['data']\n",
    "        result[\"Title\"] = post_d['title']\n",
    "        result[\"Score\"] = post_d['score']\n",
    "        result[\"Autor\"] = post_d.get('author_fullname', None)\n",
    "        result[\"Time\"] = post_d['created']\n",
    "        result[\"Comments\"] = post_d['num_comments']\n",
    "        result[\"UpvoteRatio\"] = post_d['upvote_ratio']\n",
    "        result[\"Subreddit\"] = post_d['subreddit']\n",
    "        result[\"is_nsfw\"] = post_d['over_18']\n",
    "        result[\"SelfText\"] = post_d['selftext']\n",
    "        result[\"IsSelfText\"] = post_d['is_self']\n",
    "        result[\"IsPinned\"] = post_d['pinned']\n",
    "        result[\"IsStickied\"] = post_d['stickied']\n",
    "        result[\"IsPinned\"] = post_d['pinned']\n",
    "        result[\"IsLocked\"] = post_d['locked']\n",
    "        posts_list.append(result)\n",
    "        result = {}\n",
    "    return posts_list"
   ]
  },
  {
   "cell_type": "code",
   "execution_count": 67,
   "metadata": {},
   "outputs": [],
   "source": [
    "after = None\n",
    "counter = 0\n",
    "while True:\n",
    "    res = requests.get('{}/search/?q=working%20at%20amazon'.format(api), headers=headers, params={'limit': '5000', 'after': after})\n",
    "    json_res = res.json()\n",
    "    data = json_res['data']\n",
    "    after = data['after']\n",
    "    dic_data = create_dict(data['children'])\n",
    "    store_in_CSV('wamazon.csv',dic_data)\n",
    "    counter += 1\n",
    "    if after == None or counter == 50:\n",
    "        break\n",
    "    "
   ]
  },
  {
   "cell_type": "code",
   "execution_count": 68,
   "metadata": {},
   "outputs": [
    {
     "data": {
      "text/plain": [
       "(221, 14)"
      ]
     },
     "execution_count": 68,
     "metadata": {},
     "output_type": "execute_result"
    }
   ],
   "source": [
    "df = pd.read_csv('wamazon.csv')\n",
    "df.shape"
   ]
  },
  {
   "cell_type": "code",
   "execution_count": 69,
   "metadata": {},
   "outputs": [
    {
     "data": {
      "text/html": [
       "<div>\n",
       "<style scoped>\n",
       "    .dataframe tbody tr th:only-of-type {\n",
       "        vertical-align: middle;\n",
       "    }\n",
       "\n",
       "    .dataframe tbody tr th {\n",
       "        vertical-align: top;\n",
       "    }\n",
       "\n",
       "    .dataframe thead th {\n",
       "        text-align: right;\n",
       "    }\n",
       "</style>\n",
       "<table border=\"1\" class=\"dataframe\">\n",
       "  <thead>\n",
       "    <tr style=\"text-align: right;\">\n",
       "      <th></th>\n",
       "      <th>Title</th>\n",
       "      <th>Score</th>\n",
       "      <th>Autor</th>\n",
       "      <th>Time</th>\n",
       "      <th>Comments</th>\n",
       "      <th>UpvoteRatio</th>\n",
       "      <th>PostId</th>\n",
       "      <th>Subreddit</th>\n",
       "      <th>is_nsfw</th>\n",
       "      <th>SelfText</th>\n",
       "      <th>IsSelfText</th>\n",
       "      <th>IsPinned</th>\n",
       "      <th>IsStickied</th>\n",
       "      <th>IsLocked</th>\n",
       "    </tr>\n",
       "  </thead>\n",
       "  <tbody>\n",
       "    <tr>\n",
       "      <th>0</th>\n",
       "      <td>I can't fucking stand working at Amazon</td>\n",
       "      <td>345</td>\n",
       "      <td>t2_vy5bzfd0</td>\n",
       "      <td>1.679421e+09</td>\n",
       "      <td>173</td>\n",
       "      <td>0.91</td>\n",
       "      <td>NaN</td>\n",
       "      <td>antiwork</td>\n",
       "      <td>False</td>\n",
       "      <td>I have ADHD. I work at Amazon as a picker. I a...</td>\n",
       "      <td>True</td>\n",
       "      <td>False</td>\n",
       "      <td>False</td>\n",
       "      <td>False</td>\n",
       "    </tr>\n",
       "    <tr>\n",
       "      <th>1</th>\n",
       "      <td>I hate working at Amazon</td>\n",
       "      <td>37</td>\n",
       "      <td>t2_8oc0wkdx</td>\n",
       "      <td>1.677656e+09</td>\n",
       "      <td>42</td>\n",
       "      <td>0.76</td>\n",
       "      <td>NaN</td>\n",
       "      <td>AmazonFC</td>\n",
       "      <td>False</td>\n",
       "      <td>I'm not certain if it's just how things are go...</td>\n",
       "      <td>True</td>\n",
       "      <td>False</td>\n",
       "      <td>False</td>\n",
       "      <td>False</td>\n",
       "    </tr>\n",
       "    <tr>\n",
       "      <th>2</th>\n",
       "      <td>Anyone actually like working at Amazon?</td>\n",
       "      <td>55</td>\n",
       "      <td>t2_5ns0vqsb</td>\n",
       "      <td>1.635480e+09</td>\n",
       "      <td>130</td>\n",
       "      <td>0.89</td>\n",
       "      <td>NaN</td>\n",
       "      <td>AmazonFC</td>\n",
       "      <td>False</td>\n",
       "      <td>Hello all,\\n\\nDoes anyone here like working at...</td>\n",
       "      <td>True</td>\n",
       "      <td>False</td>\n",
       "      <td>False</td>\n",
       "      <td>False</td>\n",
       "    </tr>\n",
       "    <tr>\n",
       "      <th>3</th>\n",
       "      <td>Is working at Amazon really as bad as people say?</td>\n",
       "      <td>31</td>\n",
       "      <td>t2_b59a00b6</td>\n",
       "      <td>1.619921e+09</td>\n",
       "      <td>107</td>\n",
       "      <td>0.90</td>\n",
       "      <td>NaN</td>\n",
       "      <td>AmazonFC</td>\n",
       "      <td>False</td>\n",
       "      <td>I am asking because I've been unemployed for a...</td>\n",
       "      <td>True</td>\n",
       "      <td>False</td>\n",
       "      <td>False</td>\n",
       "      <td>False</td>\n",
       "    </tr>\n",
       "    <tr>\n",
       "      <th>4</th>\n",
       "      <td>Is working at amazon worth it or nah?</td>\n",
       "      <td>3</td>\n",
       "      <td>t2_4gzf4cf6</td>\n",
       "      <td>1.675802e+09</td>\n",
       "      <td>51</td>\n",
       "      <td>0.57</td>\n",
       "      <td>NaN</td>\n",
       "      <td>AmazonFC</td>\n",
       "      <td>False</td>\n",
       "      <td>I don’t have a job and Im looking and obviousl...</td>\n",
       "      <td>True</td>\n",
       "      <td>False</td>\n",
       "      <td>False</td>\n",
       "      <td>False</td>\n",
       "    </tr>\n",
       "  </tbody>\n",
       "</table>\n",
       "</div>"
      ],
      "text/plain": [
       "                                               Title  Score        Autor  \\\n",
       "0            I can't fucking stand working at Amazon    345  t2_vy5bzfd0   \n",
       "1                           I hate working at Amazon     37  t2_8oc0wkdx   \n",
       "2            Anyone actually like working at Amazon?     55  t2_5ns0vqsb   \n",
       "3  Is working at Amazon really as bad as people say?     31  t2_b59a00b6   \n",
       "4              Is working at amazon worth it or nah?      3  t2_4gzf4cf6   \n",
       "\n",
       "           Time  Comments  UpvoteRatio  PostId Subreddit  is_nsfw  \\\n",
       "0  1.679421e+09       173         0.91     NaN  antiwork    False   \n",
       "1  1.677656e+09        42         0.76     NaN  AmazonFC    False   \n",
       "2  1.635480e+09       130         0.89     NaN  AmazonFC    False   \n",
       "3  1.619921e+09       107         0.90     NaN  AmazonFC    False   \n",
       "4  1.675802e+09        51         0.57     NaN  AmazonFC    False   \n",
       "\n",
       "                                            SelfText  IsSelfText  IsPinned  \\\n",
       "0  I have ADHD. I work at Amazon as a picker. I a...        True     False   \n",
       "1  I'm not certain if it's just how things are go...        True     False   \n",
       "2  Hello all,\\n\\nDoes anyone here like working at...        True     False   \n",
       "3  I am asking because I've been unemployed for a...        True     False   \n",
       "4  I don’t have a job and Im looking and obviousl...        True     False   \n",
       "\n",
       "   IsStickied  IsLocked  \n",
       "0       False     False  \n",
       "1       False     False  \n",
       "2       False     False  \n",
       "3       False     False  \n",
       "4       False     False  "
      ]
     },
     "execution_count": 69,
     "metadata": {},
     "output_type": "execute_result"
    }
   ],
   "source": [
    "df.head()"
   ]
  },
  {
   "cell_type": "code",
   "execution_count": 53,
   "metadata": {},
   "outputs": [
    {
     "data": {
      "text/plain": [
       "100"
      ]
     },
     "execution_count": 53,
     "metadata": {},
     "output_type": "execute_result"
    }
   ],
   "source": [
    "len(json_res['data']['children'])"
   ]
  }
 ],
 "metadata": {
  "kernelspec": {
   "display_name": "Python 3",
   "language": "python",
   "name": "python3"
  },
  "language_info": {
   "codemirror_mode": {
    "name": "ipython",
    "version": 3
   },
   "file_extension": ".py",
   "mimetype": "text/x-python",
   "name": "python",
   "nbconvert_exporter": "python",
   "pygments_lexer": "ipython3",
   "version": "3.10.9"
  }
 },
 "nbformat": 4,
 "nbformat_minor": 2
}
