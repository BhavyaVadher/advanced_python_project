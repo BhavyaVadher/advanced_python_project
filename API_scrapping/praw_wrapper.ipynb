{
 "cells": [
  {
   "cell_type": "code",
   "execution_count": 2,
   "metadata": {},
   "outputs": [],
   "source": [
    "# Read API credentials from .env file\n",
    "\n",
    "import os\n",
    "\n",
    "client_id = os.environ['CLIENT_ID']\n",
    "client_secret = os.environ['CLIENT_SECRET']\n",
    "user_agent = os.environ['USER_AGENT']"
   ]
  },
  {
   "cell_type": "code",
   "execution_count": 3,
   "metadata": {},
   "outputs": [],
   "source": [
    "import pandas as pd"
   ]
  },
  {
   "cell_type": "code",
   "execution_count": 54,
   "metadata": {},
   "outputs": [],
   "source": [
    "import csv\n",
    "\n",
    "def create_dict_posts(posts):\n",
    "    result = {}\n",
    "    posts_list = []\n",
    "    for post in posts:\n",
    "        result[\"Title\"] = post.title\n",
    "        result[\"Score\"] = post.score\n",
    "        result[\"Autor\"] = post.author\n",
    "        result[\"Time\"] = post.created\n",
    "        result[\"Comments\"] = post.num_comments\n",
    "        result[\"UpvoteRatio\"] = post.upvote_ratio\n",
    "        result[\"PostId\"] = post.id\n",
    "        result[\"Subreddit\"] = post.subreddit.display_name\n",
    "        result[\"is_nsfw\"] = post.over_18\n",
    "        result[\"SelfText\"] = post.selftext\n",
    "        result[\"IsSelfText\"] = post.is_self\n",
    "        result[\"IsPinned\"] = post.pinned\n",
    "        result[\"IsStickied\"] = post.stickied\n",
    "        result[\"IsPinned\"] = post.pinned\n",
    "        result[\"IsLocked\"] = post.locked\n",
    "        posts_list.append(result)\n",
    "        result = {}\n",
    "    return posts_list\n",
    "\n",
    "def create_dict_posts_top(posts):\n",
    "    result = {}\n",
    "    posts_list = []\n",
    "    for post in posts.top(limit=None):\n",
    "        result[\"Title\"] = post.title\n",
    "        result[\"Score\"] = post.score\n",
    "        result[\"Autor\"] = post.author\n",
    "        result[\"Time\"] = post.created\n",
    "        result[\"Comments\"] = post.num_comments\n",
    "        result[\"UpvoteRatio\"] = post.upvote_ratio\n",
    "        result[\"PostId\"] = post.id\n",
    "        result[\"Subreddit\"] = post.subreddit.display_name\n",
    "        result[\"is_nsfw\"] = post.over_18\n",
    "        result[\"SelfText\"] = post.selftext\n",
    "        result[\"IsSelfText\"] = post.is_self\n",
    "        result[\"IsPinned\"] = post.pinned\n",
    "        result[\"IsStickied\"] = post.stickied\n",
    "        result[\"IsPinned\"] = post.pinned\n",
    "        result[\"IsLocked\"] = post.locked\n",
    "        posts_list.append(result)\n",
    "        result = {}\n",
    "    return posts_list\n",
    "\n",
    "def create_dict_posts_new(posts):\n",
    "    result = {}\n",
    "    posts_list = []\n",
    "    for post in posts.new(limit=None):\n",
    "        result[\"Title\"] = post.title\n",
    "        result[\"Score\"] = post.score\n",
    "        result[\"Autor\"] = post.author\n",
    "        result[\"Time\"] = post.created\n",
    "        result[\"Comments\"] = post.num_comments\n",
    "        result[\"UpvoteRatio\"] = post.upvote_ratio\n",
    "        result[\"PostId\"] = post.id\n",
    "        result[\"Subreddit\"] = post.subreddit.display_name\n",
    "        result[\"is_nsfw\"] = post.over_18\n",
    "        result[\"SelfText\"] = post.selftext\n",
    "        result[\"IsSelfText\"] = post.is_self\n",
    "        result[\"IsPinned\"] = post.pinned\n",
    "        result[\"IsStickied\"] = post.stickied\n",
    "        result[\"IsPinned\"] = post.pinned\n",
    "        result[\"IsLocked\"] = post.locked\n",
    "        posts_list.append(result)\n",
    "        result = {}\n",
    "    return posts_list\n",
    "\n",
    "def create_dict_posts_hot(posts):\n",
    "    result = {}\n",
    "    posts_list = []\n",
    "    for post in posts.hot(limit=None):\n",
    "        result[\"Title\"] = post.title\n",
    "        result[\"Score\"] = post.score\n",
    "        result[\"Autor\"] = post.author\n",
    "        result[\"Time\"] = post.created\n",
    "        result[\"Comments\"] = post.num_comments\n",
    "        result[\"UpvoteRatio\"] = post.upvote_ratio\n",
    "        result[\"PostId\"] = post.id\n",
    "        result[\"Subreddit\"] = post.subreddit.display_name\n",
    "        result[\"is_nsfw\"] = post.over_18\n",
    "        result[\"SelfText\"] = post.selftext\n",
    "        result[\"IsSelfText\"] = post.is_self\n",
    "        result[\"IsPinned\"] = post.pinned\n",
    "        result[\"IsStickied\"] = post.stickied\n",
    "        result[\"IsPinned\"] = post.pinned\n",
    "        result[\"IsLocked\"] = post.locked\n",
    "        posts_list.append(result)\n",
    "        result = {}\n",
    "    return posts_list\n",
    "\n",
    "def store_in_CSV(file_name, posts):\n",
    "    fields = ['Title', 'Score', 'Autor', 'Time', 'Comments', 'UpvoteRatio', 'PostId', 'Subreddit', 'is_nsfw', 'SelfText', 'IsSelfText', 'IsPinned', 'IsStickied', 'IsLocked']\n",
    "    with open(file_name, 'a', newline='') as csvfile:\n",
    "        writer = csv.DictWriter(csvfile, fieldnames=fields)\n",
    "        if csvfile.tell() == 0:\n",
    "            writer.writeheader()\n",
    "        writer.writerows(posts)\n",
    "\n",
    "def scrap_dataset(subreddits, file_path, reddit):\n",
    "    for sub in subreddits:\n",
    "        search_results = reddit.subreddit(sub)\n",
    "        posts = create_dict_posts_hot(search_results)\n",
    "        store_in_CSV(file_path, posts)\n",
    "    df = pd.read_csv(file_path)\n",
    "    print(df.shape)\n",
    "    return df\n",
    "\n",
    "def scrap_dataset_top(subreddits, file_path, reddit):\n",
    "    for sub in subreddits:\n",
    "        search_results = reddit.subreddit(sub)\n",
    "        posts = create_dict_posts_top(search_results)\n",
    "        store_in_CSV(file_path, posts)\n",
    "    df = pd.read_csv(file_path)\n",
    "    print(df.shape)\n",
    "    return df\n",
    "\n",
    "def scrap_dataset_new(subreddits, file_path, reddit):\n",
    "    for sub in subreddits:\n",
    "        search_results = reddit.subreddit(sub)\n",
    "        posts = create_dict_posts_new(search_results)\n",
    "        store_in_CSV(file_path, posts)\n",
    "    df = pd.read_csv(file_path)\n",
    "    print(df.shape)\n",
    "    return df                                    \n",
    "    "
   ]
  },
  {
   "cell_type": "code",
   "execution_count": 5,
   "metadata": {},
   "outputs": [],
   "source": [
    "import praw\n",
    "\n",
    "# Create a Reddit API client with your credentials\n",
    "reddit = praw.Reddit(\n",
    "    client_id=client_id,\n",
    "    client_secret=client_secret,\n",
    "    user_agent=user_agent\n",
    ")"
   ]
  },
  {
   "cell_type": "code",
   "execution_count": 41,
   "metadata": {},
   "outputs": [
    {
     "name": "stdout",
     "output_type": "stream",
     "text": [
      "(3084, 14)\n"
     ]
    }
   ],
   "source": [
    "subreddits = ['artificial', 'ArtificalIntelligence', 'singularity', 'ArtificialNtelligence', 'ArtificialInteligence', 'artificialneurons', 'ArtificialInelligence', 'agi']\n",
    "df = scrap_dataset(subreddits, 'artificial_intelligence.csv', reddit)"
   ]
  },
  {
   "cell_type": "code",
   "execution_count": 55,
   "metadata": {},
   "outputs": [
    {
     "name": "stdout",
     "output_type": "stream",
     "text": [
      "(8108, 14)\n"
     ]
    }
   ],
   "source": [
    "df = scrap_dataset_new(subreddits, 'artificial_intelligence.csv', reddit)"
   ]
  },
  {
   "cell_type": "code",
   "execution_count": 58,
   "metadata": {},
   "outputs": [],
   "source": [
    "df.drop_duplicates(inplace=True)"
   ]
  },
  {
   "cell_type": "code",
   "execution_count": 59,
   "metadata": {},
   "outputs": [
    {
     "data": {
      "text/plain": [
       "Title             0\n",
       "Score             0\n",
       "Autor           143\n",
       "Time              0\n",
       "Comments          0\n",
       "UpvoteRatio       0\n",
       "PostId            0\n",
       "Subreddit         0\n",
       "is_nsfw           0\n",
       "SelfText       5620\n",
       "IsSelfText        0\n",
       "IsPinned          0\n",
       "IsStickied        0\n",
       "IsLocked          0\n",
       "dtype: int64"
      ]
     },
     "execution_count": 59,
     "metadata": {},
     "output_type": "execute_result"
    }
   ],
   "source": [
    "df.isnull().sum()"
   ]
  },
  {
   "cell_type": "code",
   "execution_count": 60,
   "metadata": {},
   "outputs": [
    {
     "data": {
      "text/plain": [
       "(8108, 14)"
      ]
     },
     "execution_count": 60,
     "metadata": {},
     "output_type": "execute_result"
    }
   ],
   "source": [
    "df.shape"
   ]
  },
  {
   "cell_type": "code",
   "execution_count": 61,
   "metadata": {},
   "outputs": [
    {
     "data": {
      "text/html": [
       "<div>\n",
       "<style scoped>\n",
       "    .dataframe tbody tr th:only-of-type {\n",
       "        vertical-align: middle;\n",
       "    }\n",
       "\n",
       "    .dataframe tbody tr th {\n",
       "        vertical-align: top;\n",
       "    }\n",
       "\n",
       "    .dataframe thead th {\n",
       "        text-align: right;\n",
       "    }\n",
       "</style>\n",
       "<table border=\"1\" class=\"dataframe\">\n",
       "  <thead>\n",
       "    <tr style=\"text-align: right;\">\n",
       "      <th></th>\n",
       "      <th>Title</th>\n",
       "      <th>Score</th>\n",
       "      <th>Autor</th>\n",
       "      <th>Time</th>\n",
       "      <th>Comments</th>\n",
       "      <th>UpvoteRatio</th>\n",
       "      <th>PostId</th>\n",
       "      <th>Subreddit</th>\n",
       "      <th>is_nsfw</th>\n",
       "      <th>SelfText</th>\n",
       "      <th>IsSelfText</th>\n",
       "      <th>IsPinned</th>\n",
       "      <th>IsStickied</th>\n",
       "      <th>IsLocked</th>\n",
       "    </tr>\n",
       "  </thead>\n",
       "  <tbody>\n",
       "    <tr>\n",
       "      <th>0</th>\n",
       "      <td>AI — weekly megathread!</td>\n",
       "      <td>4</td>\n",
       "      <td>jaketocake</td>\n",
       "      <td>1.697821e+09</td>\n",
       "      <td>1</td>\n",
       "      <td>0.83</td>\n",
       "      <td>17cg21b</td>\n",
       "      <td>artificial</td>\n",
       "      <td>False</td>\n",
       "      <td>**News** provided by [aibrews.com](https://ai...</td>\n",
       "      <td>True</td>\n",
       "      <td>False</td>\n",
       "      <td>True</td>\n",
       "      <td>False</td>\n",
       "    </tr>\n",
       "    <tr>\n",
       "      <th>1</th>\n",
       "      <td>Tried visualizing an entire script using Dall-...</td>\n",
       "      <td>9</td>\n",
       "      <td>Kulimar</td>\n",
       "      <td>1.697997e+09</td>\n",
       "      <td>16</td>\n",
       "      <td>0.74</td>\n",
       "      <td>17dyvb8</td>\n",
       "      <td>artificial</td>\n",
       "      <td>False</td>\n",
       "      <td>\\n\\nhttps://preview.redd.it/vi9wx005ksvb1.jpg...</td>\n",
       "      <td>True</td>\n",
       "      <td>False</td>\n",
       "      <td>False</td>\n",
       "      <td>False</td>\n",
       "    </tr>\n",
       "    <tr>\n",
       "      <th>2</th>\n",
       "      <td>Microsoft CEO Satya Nadella talks AI, closing ...</td>\n",
       "      <td>6</td>\n",
       "      <td>thisisinsider</td>\n",
       "      <td>1.698004e+09</td>\n",
       "      <td>1</td>\n",
       "      <td>0.80</td>\n",
       "      <td>17e1fnb</td>\n",
       "      <td>artificial</td>\n",
       "      <td>False</td>\n",
       "      <td>NaN</td>\n",
       "      <td>False</td>\n",
       "      <td>False</td>\n",
       "      <td>False</td>\n",
       "      <td>False</td>\n",
       "    </tr>\n",
       "    <tr>\n",
       "      <th>3</th>\n",
       "      <td>Email Ai</td>\n",
       "      <td>3</td>\n",
       "      <td>JOTA-137_0</td>\n",
       "      <td>1.698008e+09</td>\n",
       "      <td>0</td>\n",
       "      <td>1.00</td>\n",
       "      <td>17e33ag</td>\n",
       "      <td>artificial</td>\n",
       "      <td>False</td>\n",
       "      <td>is there a website or some Ai to help me clean...</td>\n",
       "      <td>True</td>\n",
       "      <td>False</td>\n",
       "      <td>False</td>\n",
       "      <td>False</td>\n",
       "    </tr>\n",
       "    <tr>\n",
       "      <th>4</th>\n",
       "      <td>IBM's NorthPole chip runs AI image recognition...</td>\n",
       "      <td>3</td>\n",
       "      <td>NuseAI</td>\n",
       "      <td>1.698015e+09</td>\n",
       "      <td>0</td>\n",
       "      <td>1.00</td>\n",
       "      <td>17e5lk5</td>\n",
       "      <td>artificial</td>\n",
       "      <td>False</td>\n",
       "      <td>- IBM has developed a chip called NorthPole th...</td>\n",
       "      <td>True</td>\n",
       "      <td>False</td>\n",
       "      <td>False</td>\n",
       "      <td>False</td>\n",
       "    </tr>\n",
       "  </tbody>\n",
       "</table>\n",
       "</div>"
      ],
      "text/plain": [
       "                                               Title  Score          Autor  \\\n",
       "0                            AI — weekly megathread!      4     jaketocake   \n",
       "1  Tried visualizing an entire script using Dall-...      9        Kulimar   \n",
       "2  Microsoft CEO Satya Nadella talks AI, closing ...      6  thisisinsider   \n",
       "3                                           Email Ai      3     JOTA-137_0   \n",
       "4  IBM's NorthPole chip runs AI image recognition...      3         NuseAI   \n",
       "\n",
       "           Time  Comments  UpvoteRatio   PostId   Subreddit  is_nsfw  \\\n",
       "0  1.697821e+09         1         0.83  17cg21b  artificial    False   \n",
       "1  1.697997e+09        16         0.74  17dyvb8  artificial    False   \n",
       "2  1.698004e+09         1         0.80  17e1fnb  artificial    False   \n",
       "3  1.698008e+09         0         1.00  17e33ag  artificial    False   \n",
       "4  1.698015e+09         0         1.00  17e5lk5  artificial    False   \n",
       "\n",
       "                                            SelfText  IsSelfText  IsPinned  \\\n",
       "0   **News** provided by [aibrews.com](https://ai...        True     False   \n",
       "1   \\n\\nhttps://preview.redd.it/vi9wx005ksvb1.jpg...        True     False   \n",
       "2                                                NaN       False     False   \n",
       "3  is there a website or some Ai to help me clean...        True     False   \n",
       "4  - IBM has developed a chip called NorthPole th...        True     False   \n",
       "\n",
       "   IsStickied  IsLocked  \n",
       "0        True     False  \n",
       "1       False     False  \n",
       "2       False     False  \n",
       "3       False     False  \n",
       "4       False     False  "
      ]
     },
     "execution_count": 61,
     "metadata": {},
     "output_type": "execute_result"
    }
   ],
   "source": [
    "df.head()"
   ]
  },
  {
   "cell_type": "code",
   "execution_count": 64,
   "metadata": {},
   "outputs": [
    {
     "data": {
      "text/plain": [
       "5620"
      ]
     },
     "execution_count": 64,
     "metadata": {},
     "output_type": "execute_result"
    }
   ],
   "source": [
    "df['SelfText'].isnull().sum()"
   ]
  },
  {
   "cell_type": "code",
   "execution_count": 45,
   "metadata": {},
   "outputs": [
    {
     "name": "stdout",
     "output_type": "stream",
     "text": [
      "(4339, 14)\n"
     ]
    }
   ],
   "source": [
    "subreddits = ['climatechange', 'climate_science', 'climate', 'environment', 'GlobalClimateChange', 'climate_change', 'ClimateChangeSurprise']\n",
    "df = scrap_dataset(subreddits, 'climate_change.csv', reddit)"
   ]
  },
  {
   "cell_type": "code",
   "execution_count": 65,
   "metadata": {},
   "outputs": [
    {
     "name": "stdout",
     "output_type": "stream",
     "text": [
      "(9363, 14)\n"
     ]
    }
   ],
   "source": [
    "df = scrap_dataset_new(subreddits, 'climate_change.csv', reddit)"
   ]
  },
  {
   "cell_type": "code",
   "execution_count": 66,
   "metadata": {},
   "outputs": [],
   "source": [
    "df.drop_duplicates(inplace=True)"
   ]
  },
  {
   "cell_type": "code",
   "execution_count": 67,
   "metadata": {},
   "outputs": [
    {
     "data": {
      "text/plain": [
       "(8119, 14)"
      ]
     },
     "execution_count": 67,
     "metadata": {},
     "output_type": "execute_result"
    }
   ],
   "source": [
    "df.shape"
   ]
  },
  {
   "cell_type": "code",
   "execution_count": 68,
   "metadata": {},
   "outputs": [
    {
     "data": {
      "text/html": [
       "<div>\n",
       "<style scoped>\n",
       "    .dataframe tbody tr th:only-of-type {\n",
       "        vertical-align: middle;\n",
       "    }\n",
       "\n",
       "    .dataframe tbody tr th {\n",
       "        vertical-align: top;\n",
       "    }\n",
       "\n",
       "    .dataframe thead th {\n",
       "        text-align: right;\n",
       "    }\n",
       "</style>\n",
       "<table border=\"1\" class=\"dataframe\">\n",
       "  <thead>\n",
       "    <tr style=\"text-align: right;\">\n",
       "      <th></th>\n",
       "      <th>Title</th>\n",
       "      <th>Score</th>\n",
       "      <th>Autor</th>\n",
       "      <th>Time</th>\n",
       "      <th>Comments</th>\n",
       "      <th>UpvoteRatio</th>\n",
       "      <th>PostId</th>\n",
       "      <th>Subreddit</th>\n",
       "      <th>is_nsfw</th>\n",
       "      <th>SelfText</th>\n",
       "      <th>IsSelfText</th>\n",
       "      <th>IsPinned</th>\n",
       "      <th>IsStickied</th>\n",
       "      <th>IsLocked</th>\n",
       "    </tr>\n",
       "  </thead>\n",
       "  <tbody>\n",
       "    <tr>\n",
       "      <th>0</th>\n",
       "      <td>I'm afraid climate change is going to kill me!...</td>\n",
       "      <td>718</td>\n",
       "      <td>Will_Power</td>\n",
       "      <td>1.550104e+09</td>\n",
       "      <td>534</td>\n",
       "      <td>0.98</td>\n",
       "      <td>aqdmbz</td>\n",
       "      <td>climatechange</td>\n",
       "      <td>False</td>\n",
       "      <td>Feeling scared? Have you been listening to or ...</td>\n",
       "      <td>True</td>\n",
       "      <td>False</td>\n",
       "      <td>True</td>\n",
       "      <td>False</td>\n",
       "    </tr>\n",
       "    <tr>\n",
       "      <th>1</th>\n",
       "      <td>The r/climatechange Verified User Flair Program</td>\n",
       "      <td>30</td>\n",
       "      <td>technologyisnatural</td>\n",
       "      <td>1.661115e+09</td>\n",
       "      <td>14</td>\n",
       "      <td>0.91</td>\n",
       "      <td>wu9zny</td>\n",
       "      <td>climatechange</td>\n",
       "      <td>False</td>\n",
       "      <td>r/climatechange is a community centered around...</td>\n",
       "      <td>True</td>\n",
       "      <td>False</td>\n",
       "      <td>True</td>\n",
       "      <td>False</td>\n",
       "    </tr>\n",
       "    <tr>\n",
       "      <th>2</th>\n",
       "      <td>How come some environmentalists are against ca...</td>\n",
       "      <td>75</td>\n",
       "      <td>SnooMarzipans7682</td>\n",
       "      <td>1.697987e+09</td>\n",
       "      <td>296</td>\n",
       "      <td>0.75</td>\n",
       "      <td>17dv720</td>\n",
       "      <td>climatechange</td>\n",
       "      <td>False</td>\n",
       "      <td>It seems like if we could capture all of the c...</td>\n",
       "      <td>True</td>\n",
       "      <td>False</td>\n",
       "      <td>False</td>\n",
       "      <td>False</td>\n",
       "    </tr>\n",
       "    <tr>\n",
       "      <th>3</th>\n",
       "      <td>Solar and wind are better than nuclear</td>\n",
       "      <td>21</td>\n",
       "      <td>Consistent_Piano_210</td>\n",
       "      <td>1.698006e+09</td>\n",
       "      <td>26</td>\n",
       "      <td>0.70</td>\n",
       "      <td>17e251o</td>\n",
       "      <td>climatechange</td>\n",
       "      <td>False</td>\n",
       "      <td>Taken from a discussion:\\n\\nNickel Iron batter...</td>\n",
       "      <td>True</td>\n",
       "      <td>False</td>\n",
       "      <td>False</td>\n",
       "      <td>False</td>\n",
       "    </tr>\n",
       "    <tr>\n",
       "      <th>4</th>\n",
       "      <td>When will we hit 2 degrees of global warming?</td>\n",
       "      <td>9</td>\n",
       "      <td>ging289</td>\n",
       "      <td>1.698013e+09</td>\n",
       "      <td>30</td>\n",
       "      <td>0.74</td>\n",
       "      <td>17e506w</td>\n",
       "      <td>climatechange</td>\n",
       "      <td>False</td>\n",
       "      <td>Now we can't avoid hitting 1.5 degrees so I as...</td>\n",
       "      <td>True</td>\n",
       "      <td>False</td>\n",
       "      <td>False</td>\n",
       "      <td>False</td>\n",
       "    </tr>\n",
       "  </tbody>\n",
       "</table>\n",
       "</div>"
      ],
      "text/plain": [
       "                                               Title  Score  \\\n",
       "0  I'm afraid climate change is going to kill me!...    718   \n",
       "1    The r/climatechange Verified User Flair Program     30   \n",
       "2  How come some environmentalists are against ca...     75   \n",
       "3             Solar and wind are better than nuclear     21   \n",
       "4      When will we hit 2 degrees of global warming?      9   \n",
       "\n",
       "                  Autor          Time  Comments  UpvoteRatio   PostId  \\\n",
       "0            Will_Power  1.550104e+09       534         0.98   aqdmbz   \n",
       "1   technologyisnatural  1.661115e+09        14         0.91   wu9zny   \n",
       "2     SnooMarzipans7682  1.697987e+09       296         0.75  17dv720   \n",
       "3  Consistent_Piano_210  1.698006e+09        26         0.70  17e251o   \n",
       "4               ging289  1.698013e+09        30         0.74  17e506w   \n",
       "\n",
       "       Subreddit  is_nsfw                                           SelfText  \\\n",
       "0  climatechange    False  Feeling scared? Have you been listening to or ...   \n",
       "1  climatechange    False  r/climatechange is a community centered around...   \n",
       "2  climatechange    False  It seems like if we could capture all of the c...   \n",
       "3  climatechange    False  Taken from a discussion:\\n\\nNickel Iron batter...   \n",
       "4  climatechange    False  Now we can't avoid hitting 1.5 degrees so I as...   \n",
       "\n",
       "   IsSelfText  IsPinned  IsStickied  IsLocked  \n",
       "0        True     False        True     False  \n",
       "1        True     False        True     False  \n",
       "2        True     False       False     False  \n",
       "3        True     False       False     False  \n",
       "4        True     False       False     False  "
      ]
     },
     "execution_count": 68,
     "metadata": {},
     "output_type": "execute_result"
    }
   ],
   "source": [
    "df.head()"
   ]
  },
  {
   "cell_type": "code",
   "execution_count": 69,
   "metadata": {},
   "outputs": [
    {
     "data": {
      "text/plain": [
       "Title             0\n",
       "Score             0\n",
       "Autor           179\n",
       "Time              0\n",
       "Comments          0\n",
       "UpvoteRatio       0\n",
       "PostId            0\n",
       "Subreddit         0\n",
       "is_nsfw           0\n",
       "SelfText       6717\n",
       "IsSelfText        0\n",
       "IsPinned          0\n",
       "IsStickied        0\n",
       "IsLocked          0\n",
       "dtype: int64"
      ]
     },
     "execution_count": 69,
     "metadata": {},
     "output_type": "execute_result"
    }
   ],
   "source": [
    "df.isnull().sum()"
   ]
  }
 ],
 "metadata": {
  "kernelspec": {
   "display_name": "Python 3",
   "language": "python",
   "name": "python3"
  },
  "language_info": {
   "codemirror_mode": {
    "name": "ipython",
    "version": 3
   },
   "file_extension": ".py",
   "mimetype": "text/x-python",
   "name": "python",
   "nbconvert_exporter": "python",
   "pygments_lexer": "ipython3",
   "version": "3.10.9"
  }
 },
 "nbformat": 4,
 "nbformat_minor": 2
}
