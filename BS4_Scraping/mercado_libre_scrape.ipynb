{
 "cells": [
  {
   "cell_type": "code",
   "execution_count": 3,
   "metadata": {},
   "outputs": [],
   "source": [
    "from bs4 import BeautifulSoup\n",
    "import requests\n",
    "import pandas as pd"
   ]
  },
  {
   "cell_type": "code",
   "execution_count": 44,
   "metadata": {},
   "outputs": [],
   "source": [
    "url = \"https://listado.mercadolibre.com.co/home#D[A:home]\""
   ]
  },
  {
   "cell_type": "code",
   "execution_count": 16,
   "metadata": {},
   "outputs": [],
   "source": [
    "HEADERS = ({'User-Agent': 'Mozilla/5.0 (Macintosh; Intel Mac OS X 10_15_7) AppleWebKit/537.36 (KHTML, like Gecko) Chrome/117.0.0.0 Safari/537.36', 'Accept-Language': 'en-US, en;q=0.5'})"
   ]
  },
  {
   "cell_type": "code",
   "execution_count": 45,
   "metadata": {},
   "outputs": [],
   "source": [
    "webpage = requests.get(url, headers=HEADERS)"
   ]
  },
  {
   "cell_type": "code",
   "execution_count": 46,
   "metadata": {},
   "outputs": [
    {
     "data": {
      "text/plain": [
       "<Response [200]>"
      ]
     },
     "execution_count": 46,
     "metadata": {},
     "output_type": "execute_result"
    }
   ],
   "source": [
    "webpage"
   ]
  },
  {
   "cell_type": "code",
   "execution_count": 32,
   "metadata": {},
   "outputs": [
    {
     "data": {
      "text/plain": [
       "bytes"
      ]
     },
     "execution_count": 32,
     "metadata": {},
     "output_type": "execute_result"
    }
   ],
   "source": [
    "type(webpage.content)"
   ]
  },
  {
   "cell_type": "code",
   "execution_count": 47,
   "metadata": {},
   "outputs": [],
   "source": [
    "soup = BeautifulSoup(webpage.content, 'html.parser')"
   ]
  },
  {
   "cell_type": "code",
   "execution_count": 43,
   "metadata": {},
   "outputs": [
    {
     "data": {
      "text/plain": [
       "<!DOCTYPE html>\n",
       "\n",
       "<!--[if lt IE 7]> <html lang=\"en-us\" class=\"a-no-js a-lt-ie9 a-lt-ie8 a-lt-ie7\"> <![endif]-->\n",
       "<!--[if IE 7]>    <html lang=\"en-us\" class=\"a-no-js a-lt-ie9 a-lt-ie8\"> <![endif]-->\n",
       "<!--[if IE 8]>    <html lang=\"en-us\" class=\"a-no-js a-lt-ie9\"> <![endif]-->\n",
       "<!--[if gt IE 8]><!-->\n",
       "<html class=\"a-no-js\" lang=\"en-us\"><!--<![endif]--><head>\n",
       "<meta content=\"text/html; charset=utf-8\" http-equiv=\"content-type\"/>\n",
       "<meta charset=\"utf-8\"/>\n",
       "<meta content=\"IE=edge,chrome=1\" http-equiv=\"X-UA-Compatible\"/>\n",
       "<title dir=\"ltr\">Amazon.ca</title>\n",
       "<meta content=\"width=device-width\" name=\"viewport\"/>\n",
       "<link href=\"https://images-na.ssl-images-amazon.com/images/G/01/AUIClients/AmazonUI-3c913031596ca78a3768f4e934b1cc02ce238101.secure.min._V1_.css\" rel=\"stylesheet\"/>\n",
       "<script>\n",
       "\n",
       "if (true === true) {\n",
       "    var ue_t0 = (+ new Date()),\n",
       "        ue_csm = window,\n",
       "        ue = { t0: ue_t0, d: function() { return (+new Date() - ue_t0); } },\n",
       "        ue_furl = \"fls-na.amazon.ca\",\n",
       "        ue_mid = \"A2EUQ1WTGCTBG2\",\n",
       "        ue_sid = (document.cookie.match(/session-id=([0-9-]+)/) || [])[1],\n",
       "        ue_sn = \"opfcaptcha.amazon.ca\",\n",
       "        ue_id = '837X2NNSNRQE08YKDD3X';\n",
       "}\n",
       "</script>\n",
       "</head>\n",
       "<body>\n",
       "<!--\n",
       "        To discuss automated access to Amazon data please contact api-services-support@amazon.com.\n",
       "        For information about migrating to our APIs refer to our Marketplace APIs at https://developer.amazonservices.ca/ref=rm_5_sv, or our Product Advertising API at https://associates.amazon.ca/gp/advertising/api/detail/main.html/ref=rm_5_ac for advertising use cases.\n",
       "-->\n",
       "<!--\n",
       "Correios.DoNotSend\n",
       "-->\n",
       "<div class=\"a-container a-padding-double-large\" style=\"min-width:350px;padding:44px 0 !important\">\n",
       "<div class=\"a-row a-spacing-double-large\" style=\"width: 350px; margin: 0 auto\">\n",
       "<div class=\"a-row a-spacing-medium a-text-center\"><i class=\"a-icon a-logo\"></i></div>\n",
       "<div class=\"a-box a-alert a-alert-info a-spacing-base\">\n",
       "<div class=\"a-box-inner\">\n",
       "<i class=\"a-icon a-icon-alert\"></i>\n",
       "<h4>Enter the characters you see below</h4>\n",
       "<p class=\"a-last\">Sorry, we just need to make sure you're not a robot. For best results, please make sure your browser is accepting cookies.</p>\n",
       "</div>\n",
       "</div>\n",
       "<div class=\"a-section\">\n",
       "<div class=\"a-box a-color-offset-background\">\n",
       "<div class=\"a-box-inner a-padding-extra-large\">\n",
       "<form action=\"/errors/validateCaptcha\" method=\"get\" name=\"\">\n",
       "<input name=\"amzn\" type=\"hidden\" value=\"o62+pBRwtXpXXR3rNRa7nA==\"/><input name=\"amzn-r\" type=\"hidden\" value=\"/Best-Sellers-generic/zgbs/?ref_=nav_cs_bestsellers\"/>\n",
       "<div class=\"a-row a-spacing-large\">\n",
       "<div class=\"a-box\">\n",
       "<div class=\"a-box-inner\">\n",
       "<h4>Type the characters you see in this image:</h4>\n",
       "<div class=\"a-row a-text-center\">\n",
       "<img src=\"https://images-na.ssl-images-amazon.com/captcha/imzrkqqo/Captcha_iwmvywomsb.jpg\"/>\n",
       "</div>\n",
       "<div class=\"a-row a-spacing-base\">\n",
       "<div class=\"a-row\">\n",
       "<div class=\"a-column a-span6\">\n",
       "</div>\n",
       "<div class=\"a-column a-span6 a-span-last a-text-right\">\n",
       "<a onclick=\"window.location.reload()\">Try different image</a>\n",
       "</div>\n",
       "</div>\n",
       "<input autocapitalize=\"off\" autocomplete=\"off\" autocorrect=\"off\" class=\"a-span12\" id=\"captchacharacters\" name=\"field-keywords\" placeholder=\"Type characters\" spellcheck=\"false\" type=\"text\"/>\n",
       "</div>\n",
       "</div>\n",
       "</div>\n",
       "</div>\n",
       "<div class=\"a-section a-spacing-extra-large\">\n",
       "<div class=\"a-row\">\n",
       "<span class=\"a-button a-button-primary a-span12\">\n",
       "<span class=\"a-button-inner\">\n",
       "<button class=\"a-button-text\" type=\"submit\">Continue shopping</button>\n",
       "</span>\n",
       "</span>\n",
       "</div>\n",
       "</div>\n",
       "</form>\n",
       "</div>\n",
       "</div>\n",
       "</div>\n",
       "</div>\n",
       "<div class=\"a-divider a-divider-section\"><div class=\"a-divider-inner\"></div></div>\n",
       "<div class=\"a-text-center a-spacing-small a-size-mini\">\n",
       "<a href=\"https://www.amazon.ca/gp/help/customer/display.html/ref=footer_cou?ie=UTF8&amp;nodeId=1040616\">Conditions of Use &amp; Sale</a>\n",
       "<span class=\"a-letter-space\"></span>\n",
       "<span class=\"a-letter-space\"></span>\n",
       "<span class=\"a-letter-space\"></span>\n",
       "<span class=\"a-letter-space\"></span>\n",
       "<a href=\"https://www.amazon.ca/gp/help/customer/display.html/ref=footer_privacy?ie=UTF8&amp;nodeId=502584\">Privacy Notice</a>\n",
       "</div>\n",
       "<div class=\"a-text-center a-size-mini a-color-secondary\">\n",
       "          © 1996-2015, Amazon.com, Inc. or its affiliates\n",
       "          <script>\n",
       "           if (true === true) {\n",
       "             document.write('<img src=\"https://fls-na.amaz'+'on.ca/'+'1/oc-csi/1/OP/requestId=837X2NNSNRQE08YKDD3X&js=1\" />');\n",
       "           };\n",
       "          </script>\n",
       "<noscript>\n",
       "<img src=\"https://fls-na.amazon.ca/1/oc-csi/1/OP/requestId=837X2NNSNRQE08YKDD3X&amp;js=0\">\n",
       "</img></noscript>\n",
       "</div>\n",
       "</div>\n",
       "<script>\n",
       "    if (true === true) {\n",
       "        var head = document.getElementsByTagName('head')[0],\n",
       "            prefix = \"https://images-na.ssl-images-amazon.com/images/G/01/csminstrumentation/\",\n",
       "            elem = document.createElement(\"script\");\n",
       "        elem.src = prefix + \"csm-captcha-instrumentation.min.js\";\n",
       "        head.appendChild(elem);\n",
       "\n",
       "        elem = document.createElement(\"script\");\n",
       "        elem.src = prefix + \"rd-script-6d68177fa6061598e9509dc4b5bdd08d.js\";\n",
       "        head.appendChild(elem);\n",
       "    }\n",
       "    </script>\n",
       "</body></html>"
      ]
     },
     "execution_count": 43,
     "metadata": {},
     "output_type": "execute_result"
    }
   ],
   "source": [
    "soup"
   ]
  },
  {
   "cell_type": "code",
   "execution_count": 48,
   "metadata": {},
   "outputs": [],
   "source": [
    "a_tags = soup.find_all(\"a\", attrs={'class':'ui-search-item__group__element ui-search-link'})"
   ]
  },
  {
   "cell_type": "code",
   "execution_count": 49,
   "metadata": {},
   "outputs": [
    {
     "data": {
      "text/plain": [
       "[<a class=\"ui-search-item__group__element ui-search-link\" href=\"https://click1.mercadolibre.com.co/mclics/clicks/external/MCO/count?a=uxilSqBJD7F3HDikAAvNP1UT%2B0elDdbLxBjtvgzNGuhaxIOyx3ZmdCNz%2BR7O9vpD%2BAh9QSGoFHxCqJHqdfHwrRSZDt4UKyqj%2BzR4OlwibMvvtgLyquo3%2BVWezm575Lyu%2FL2jTZcAsbSm9NbKmSue2iqw0QOuOZM361uA1e0Aq%2FSy7q8wAxFTcXmN52KI%2B6l9iWeg%2BXs5PLMG140AQ8eSU2Fm7KLpxo1kzjSUg1tyUB3NeQU2%2FdQryinXQ5LaWiBvjhubi2rsdQW4D1%2F99KUitNoE7Ov36uqMzJGJJF5uX84w3dyEFmPDso82ORJaZfTlM%2B8q0FJocx0sBDigx1ucHtGKKaj%2Foo4wwp6GBmjBohrqryZqTOG%2FVRy4DCCu5KonOSThszYjLCK3ohTyxYq2QDUBU059mDBwlWywDlYXnfSh2LRCgVpPCeHBcvcvuFJjGQOJ9WtMolPJETZ69iTlE6hy8r1j5mOoUxkUcocyHE3KuKnoyZnLQoLdgYQ9VYNzXGHwAhUQLBMz%2FvOzX%2B7VzZWzhZ9L7p48DF%2BB9zwrW1ng14pgF6mpNIkdZdTlgmSqYZVhIv6atkAp71GB%2FFAz20GRB84ebEGQGhQEFbFmtzKCaeMlgNybaB%2FgY9RuC5tTYarQoDSSQDvEXCj99xFCvY1jLK9BqtbQh4GRswY9G4KA3xwbpeZwoGyKrqkQdZueYVBv5BM3FxzdjPOoYSI0ukLu&amp;e=mclics%2Fpseudo-search-pads-buybox%2B7708%2Cmclics%2Fsearch-list-ad-algorithm%2B16026%2Cmclics%2Fshow-pads-search-list%2B5146%2Cmclics%2Fshow-pads-global%2B5176&amp;rb=x\" rel=\"nofollow,sponsored\" title=\"Cortina Moderna Enrollable Blackout 1.40 Ancho X 1.40 Alto\"><h2 aria-level=\"3\" class=\"ui-search-item__title\">Cortina Moderna Enrollable Blackout 1.40 Ancho X 1.40 Alto</h2></a>,\n",
       " <a class=\"ui-search-item__group__element ui-search-link\" href=\"https://click1.mercadolibre.com.co/mclics/clicks/external/MCO/count?a=0KqiIY%2FnYQ5OicA6BJtM6yCafEPc9M91C%2FA6ifYUKCWFvBwHT8S02Pb7y2ponl958A7hJwz5xELJmKt9uC%2F14wGY7q4QXCl48SFgfEc4kpJN5r8muR3P8%2Fs7wl9EwoaRxZ3hpfIvTdA58ZllkdQKTcX7bGrxcAauOrDIa8bucIuLlNAuWwPSxq%2B1eD6UVHQN%2FHoMuj%2FQkeuN2%2FC6MuOEBFJswu61koLYSvf1ZsSSftMNUehFJaDMjm86BbFKUmCgpVG72A16oBpo3U2l5Vm%2FFLyhxzf693xGzpGwZyVSV8yu9jXMjN1SUNInS8fXK599dHLq225ddNewQNv3bnsCVa9WhTAeWThrsuySZWOco0S7O0L34vX0xk%2BpopZg4gdxRVW%2FtKsaPFwP7RAfzQJq296sYVp9j8nI%2BHj9Xi1mkfms9JWTM89WiY6FEDJqj%2FeX24OpPQf8LZ4DKuDAKZLMkv139YE29yAPsFSgHXRRfYdPyG0gvVHCLn14NZ1YJz65Jc8zVNZLzLf9puI7Xuycx1nyOUdqsjrKUEYUEmtyjQBgWP8puhlKmUjFFmAW%2BzjcRK%2B54fyp4JjSSYjlMXNH2afKfD6GYcYEw3ItQfCrU2woyoqfZPSLa58B6qeg0kSbZLxAPVIeG0l7hcLiLpftuA9cY4EztKtiamjYMrbyfZzihPOEFg144YawShk8nwquFzusQV50g49N3w%3D%3D&amp;e=mclics%2Fpseudo-search-pads-buybox%2B7708%2Cmclics%2Fsearch-list-ad-algorithm%2B16026%2Cmclics%2Fshow-pads-search-list%2B5146%2Cmclics%2Fshow-pads-global%2B5176&amp;rb=x\" rel=\"nofollow,sponsored\" title=\"Toma Inteligente Vcp Smart, Wifi Google Assistant\"><h2 aria-level=\"3\" class=\"ui-search-item__title\">Toma Inteligente Vcp Smart, Wifi Google Assistant</h2></a>,\n",
       " <a class=\"ui-search-item__group__element ui-search-link\" href=\"https://articulo.mercadolibre.com.co/MCO-656003029-cortina-anti-luz-black-out-argolla-_JM#position=42&amp;search_layout=stack&amp;type=item&amp;tracking_id=64ddca6b-96d2-4750-8c3d-bf0057814a38\" title=\"Cortina Anti-luz Black Out- Argolla\"><h2 aria-level=\"3\" class=\"ui-search-item__title\">Cortina Anti-luz Black Out- Argolla</h2></a>,\n",
       " <a class=\"ui-search-item__group__element ui-search-link\" href=\"https://articulo.mercadolibre.com.co/MCO-541044736-interruptor-de-luz-dobletactil-con-wifi-google-home-y-alexa-_JM#position=43&amp;search_layout=stack&amp;type=item&amp;tracking_id=64ddca6b-96d2-4750-8c3d-bf0057814a38\" title=\"Interruptor De Luz Dobletáctil Con Wifi Google Home Y Alexa\"><h2 aria-level=\"3\" class=\"ui-search-item__title\">Interruptor De Luz Dobletáctil Con Wifi Google Home Y Alexa</h2></a>,\n",
       " <a class=\"ui-search-item__group__element ui-search-link\" href=\"https://www.mercadolibre.com.co/termo-inoxidable-de-cafe-home-elements-tipo-bomba-19-litros-color-plateado/p/MCO19805520#searchVariation=MCO19805520&amp;position=3&amp;search_layout=stack&amp;type=product&amp;tracking_id=64ddca6b-96d2-4750-8c3d-bf0057814a38\" title=\"Termo Inoxidable De Café Home Elements Tipo Bomba 1.9 Litros Color Plateado\"><h2 aria-level=\"3\" class=\"ui-search-item__title\">Termo Inoxidable De Café Home Elements Tipo Bomba 1.9 Litros Color Plateado</h2></a>,\n",
       " <a class=\"ui-search-item__group__element ui-search-link\" href=\"https://www.mercadolibre.com.co/ventilador-samurai-air-maxx-blanco-con-azul/p/MCO19863024#searchVariation=MCO19863024&amp;position=4&amp;search_layout=stack&amp;type=product&amp;tracking_id=64ddca6b-96d2-4750-8c3d-bf0057814a38\" title=\"Ventilador Samurai Air Maxx Blanco Con Azul\"><h2 aria-level=\"3\" class=\"ui-search-item__title\">Ventilador Samurai Air Maxx Blanco Con Azul</h2></a>,\n",
       " <a class=\"ui-search-item__group__element ui-search-link\" href=\"https://www.mercadolibre.com.co/portatil-lenovo-ideapad-14ada05-platinum-gray-14-amd-athlon-silver-3050u-8gb-de-ram-256gb-ssd-amd-radeon-rx-vega-2-1366x768px-windows-10-home/p/MCO18063168#searchVariation=MCO18063168&amp;position=5&amp;search_layout=stack&amp;type=product&amp;tracking_id=64ddca6b-96d2-4750-8c3d-bf0057814a38\" title='Portátil Lenovo IdeaPad 14ADA05  platinum gray 14\", AMD Athlon Silver 3050U  8GB de RAM 256GB SSD, AMD Radeon RX Vega 2 1366x768px Windows 10 Home'><h2 aria-level=\"3\" class=\"ui-search-item__title\">Portátil Lenovo IdeaPad 14ADA05  platinum gray 14\", AMD Athlon Silver 3050U  8GB de RAM 256GB SSD, AMD Radeon RX Vega 2 1366x768px Windows 10 Home</h2></a>,\n",
       " <a class=\"ui-search-item__group__element ui-search-link\" href=\"https://www.mercadolibre.com.co/olla-a-presion-imusa-secury-control-6-litros-cucharon/p/MCO20537430#searchVariation=MCO20537430&amp;position=6&amp;search_layout=stack&amp;type=product&amp;tracking_id=64ddca6b-96d2-4750-8c3d-bf0057814a38\" title=\"Olla A Presión Imusa Secury Control 6 Litros + Cucharon \"><h2 aria-level=\"3\" class=\"ui-search-item__title\">Olla A Presión Imusa Secury Control 6 Litros + Cucharon </h2></a>,\n",
       " <a class=\"ui-search-item__group__element ui-search-link\" href=\"https://click1.mercadolibre.com.co/mclics/clicks/external/MCO/count?a=snZNzqEYak55Y8m2sj%2F2CztPrrReupFoPgCloml9EUVjJZaQVaVwcg7HoowVUM56u1PKH8hExHzmDGX3seN%2FbHFaZB5BJeZZQP07B3t7T%2FPGUnfTYOrmP%2B7QvHjXYyQ5VawcnKDoOhEw90JxFnAWbYiCFadQJUMor9RBSnagXVaXbcBqJcr63JxBMGlAMoDgwza6ZcllpEqOru0rSwgWmE6%2BdlIKWChG8drnvGg2erCvVSi%2BkH9yks%2BoudO3vewf3yDGmox8PJmwXC2xH4741dYgCIDyDMd1FSv4ekxcN0p60cEDVdOIbmXFwMM97rLRnCnfQR47pe67%2FwMmYm%2BVGfLWcxdbeO3ssDMS08alzZyn43uc%2BZ7G8GHeyCyN%2FxYueHDNr3wq4Y6Y3NOc5rQGGGr316Nai76WLnMaqunCX9liSd2450AgoECAhfB00JrZDvFwbNzJPyJylpLIa9b19nwuXrhizjfweRCDtEQ7r1g2AiqAaUnCQ2WxBhOA0RnM9PdSAWLnmuWTC8iIGTK7FlK34lzPOq4%2BT6s3DFM1JSzKaUG1CgwrlmUTedlsw787w3QgNlkbSDzpZ7VbOt0hH05T%2Fd4ENoyo7SRSn%2Fp5%2Fz05Ayq4Aw2ExUTFq0SXzUFix0%2F3NNdt3DmWfL%2FicVRXUMil0p%2F30MHOLo1%2F6HvHowMa93WQxp%2BlPKcXWSpq1zw82I452JZwmw%3D%3D&amp;e=mclics%2Fpseudo-search-pads-buybox%2B7708%2Cmclics%2Fsearch-list-ad-algorithm%2B16026%2Cmclics%2Fshow-pads-search-list%2B5146%2Cmclics%2Fshow-pads-global%2B5176&amp;rb=x\" rel=\"nofollow,sponsored\" title=\"Cortina Moderna Enrollable Blackout 1.30 X 1.30\"><h2 aria-level=\"3\" class=\"ui-search-item__title\">Cortina Moderna Enrollable Blackout 1.30 X 1.30</h2></a>,\n",
       " <a class=\"ui-search-item__group__element ui-search-link\" href=\"https://click1.mercadolibre.com.co/mclics/clicks/external/MCO/count?a=fdFw%2FWiHQBkj%2BrWdFeQ%2FYGTildFQ77NK5P8aqQckpDAyIWEOTX%2BSCcyMHEJJrE111bhivEcrvLq%2BaiHz7fquAnYKGkiL4hOAy%2FGs3rCZeV6QWJPbForbtxd6tKhHTpMz5q%2Ff9bBsfPBBrkRnntgyzTSHCQ6bz2WcByh4fFA7U6fSYOXys9YRe9pkJ%2BKGE3NE%2BAX2pOaxXFSfse9go0ntIWRtvHwQjx03En2mI5kkLhE4PJyNgfFK9ViQ6As6evSjfUTkpbzuoLGAn8mG1TA8XG%2FKkX6zS6orkJ5WqF%2FsTIKYYAYG3fXWkoti8qn5iag3YGP9CRovi220gn%2Fk3neRUigBPrbclt1rH1Nr%2Fmj7Kr2YcJkMJk%2FFcP3MwHeFTBVxx6ryzJ5wW7H2PQ8kiwmuVOlvGnz%2BgGrj61t7y%2BXPr7u03xbTtFkit5v2Rde5uG07AaTCgbVDQMB95KCEqkRn%2F2J5nF3wes5E2qRE%2BSUWJHUzUiyyuRu8D%2BsjDQzcuvP%2Bw35VN2ZTKbcB9He6QnPqmLgLI%2FaX2q7SywR42guWQrC2n6wm6cM96dOaQPRKEDKZasOkkxWwxqR1Lk1m2l7OZT5gYujfmvLu%2BcIF10mAHqLB49XJeZ6s3VQLAMzHY0Uz36T0BgANZtdHt090TLPW%2FpjV7zduJvlMIkclb7wkiWevXsmcXc9m6LTxmbO0qCZX9xbdhAocnh%2B%2Fd1dfh6IRZto74fR6h3pY&amp;e=mclics%2Fpseudo-search-pads-buybox%2B7708%2Cmclics%2Fsearch-list-ad-algorithm%2B16026%2Cmclics%2Fshow-pads-search-list%2B5146%2Cmclics%2Fshow-pads-global%2B5176&amp;rb=x\" rel=\"nofollow,sponsored\" title=\"Switch Interruptor Wifi Sin Neutro 1 Tactil Google Home Mini\"><h2 aria-level=\"3\" class=\"ui-search-item__title\">Switch Interruptor Wifi Sin Neutro 1 Tactil Google Home Mini</h2></a>,\n",
       " <a class=\"ui-search-item__group__element ui-search-link\" href=\"https://articulo.mercadolibre.com.co/MCO-570762864-interruptor-doble-wifi-sin-neutro-alexa-y-google-home-_JM#position=44&amp;search_layout=stack&amp;type=item&amp;tracking_id=64ddca6b-96d2-4750-8c3d-bf0057814a38\" title=\"Interruptor Doble Wifi Sin Neutro Alexa Y Google Home\"><h2 aria-level=\"3\" class=\"ui-search-item__title\">Interruptor Doble Wifi Sin Neutro Alexa Y Google Home</h2></a>,\n",
       " <a class=\"ui-search-item__group__element ui-search-link\" href=\"https://articulo.mercadolibre.com.co/MCO-832997695-cortina-blackout-anti-luz-con-elegantes-argollas-_JM#position=45&amp;search_layout=stack&amp;type=item&amp;tracking_id=64ddca6b-96d2-4750-8c3d-bf0057814a38\" title=\"Cortina Blackout Anti-luz Con Elegantes Argollas\"><h2 aria-level=\"3\" class=\"ui-search-item__title\">Cortina Blackout Anti-luz Con Elegantes Argollas</h2></a>,\n",
       " <a class=\"ui-search-item__group__element ui-search-link\" href=\"https://www.mercadolibre.com.co/soporte-home-design-hdl-117b-2-de-pared-para-tvmonitor-de-14-a-55-negro/p/MCO15255286#searchVariation=MCO15255286&amp;position=7&amp;search_layout=stack&amp;type=product&amp;tracking_id=64ddca6b-96d2-4750-8c3d-bf0057814a38\" title='Soporte Home Design HDL-117B-2 de pared para TV/Monitor de 14\" a 55\" negro'><h2 aria-level=\"3\" class=\"ui-search-item__title\">Soporte Home Design HDL-117B-2 de pared para TV/Monitor de 14\" a 55\" negro</h2></a>,\n",
       " <a class=\"ui-search-item__group__element ui-search-link\" href=\"https://www.mercadolibre.com.co/base-soporte-para-tv-de-14-hasta-55-pulgadas-50kg-brazo-tv/p/MCO19932657#searchVariation=MCO19932657&amp;position=8&amp;search_layout=stack&amp;type=product&amp;tracking_id=64ddca6b-96d2-4750-8c3d-bf0057814a38\" title=\"Base Soporte Para Tv De 14 Hasta 55 Pulgadas 50kg Brazo Tv\"><h2 aria-level=\"3\" class=\"ui-search-item__title\">Base Soporte Para Tv De 14 Hasta 55 Pulgadas 50kg Brazo Tv</h2></a>,\n",
       " <a class=\"ui-search-item__group__element ui-search-link\" href=\"https://www.mercadolibre.com.co/ganchos-chaqueta-pantalon-ropa-48-und-en-madera/p/MCO22752273#searchVariation=MCO22752273&amp;position=11&amp;search_layout=stack&amp;type=product&amp;tracking_id=64ddca6b-96d2-4750-8c3d-bf0057814a38\" title=\"Ganchos Chaqueta Pantalon Ropa 48 Und En Madera\"><h2 aria-level=\"3\" class=\"ui-search-item__title\">Ganchos Chaqueta Pantalon Ropa 48 Und En Madera</h2></a>,\n",
       " <a class=\"ui-search-item__group__element ui-search-link\" href=\"https://www.mercadolibre.com.co/google-home-con-asistente-virtual-google-assistant-white-y-slate-110v220v/p/MCO15536759#searchVariation=MCO15536759&amp;position=12&amp;search_layout=stack&amp;type=product&amp;tracking_id=64ddca6b-96d2-4750-8c3d-bf0057814a38\" title=\"Google Home con asistente virtual Google Assistant white y slate 110V/220V\"><h2 aria-level=\"3\" class=\"ui-search-item__title\">Google Home con asistente virtual Google Assistant white y slate 110V/220V</h2></a>,\n",
       " <a class=\"ui-search-item__group__element ui-search-link\" href=\"https://www.mercadolibre.com.co/cafetera-imusa-cafe-city-semi-automatica-negra-de-filtro-110v/p/MCO18706339#searchVariation=MCO18706339&amp;position=13&amp;search_layout=stack&amp;type=product&amp;tracking_id=64ddca6b-96d2-4750-8c3d-bf0057814a38\" title=\"Cafetera Imusa Café City semi automática negra de filtro 110V\"><h2 aria-level=\"3\" class=\"ui-search-item__title\">Cafetera Imusa Café City semi automática negra de filtro 110V</h2></a>,\n",
       " <a class=\"ui-search-item__group__element ui-search-link\" href=\"https://articulo.mercadolibre.com.co/MCO-831381788-mesa-individual-plegable-resina-do-garden-blancogris-_JM#position=46&amp;search_layout=stack&amp;type=item&amp;tracking_id=64ddca6b-96d2-4750-8c3d-bf0057814a38\" title=\"Mesa Individual Plegable Resina Do Garden Blanco/gris\"><h2 aria-level=\"3\" class=\"ui-search-item__title\">Mesa Individual Plegable Resina Do Garden Blanco/gris</h2></a>,\n",
       " <a class=\"ui-search-item__group__element ui-search-link\" href=\"https://click1.mercadolibre.com.co/mclics/clicks/external/MCO/count?a=Su0B6gfcwP5BE6B1q5CUvtFcsjBQXlVsl0rkzhZxmbbxh3Y2eVu%2FSb1pBTDg1pFK1DgjBMDfb6bjS41gyTQ8ClMZuI5mVOVB7eEx1GhanxKG7EvBwKGj1UJucI36id4roiJuCR7EGgbeymiUZ%2FJQLNNa4DzYXm94M2WhBBV37Md8o7RxvTu53ubzUeaRgub2w9b%2BYJeq2GWxC%2B1rzUqq5ZKBsfNF%2BuXfW3TKDMcTx4ZSrB3xy9MeMkNc7PHs%2B2Df1pkosAEonc8kVSqLDsAaVFzv%2FF%2FyxCR6X4wPfukIDH%2FIHM3oQNhFoiLGM0P%2FIe0GhSHUnQffZkuxXypHkaQQhgdMsJ9q8PjMMRdup4sHMxuY7rwacAcucMOnprVxNJOx6vkx6hjw8P9oeqzEURHe9T%2Bn7ashhFjBZbWtGmZTyBxVsZpnmqSnpGmcWR2FzAX9F%2BGd8Ss0urZvspKOvFVcQTQJrUXVFEZW6Zr2Qhudtn3afVryZOgwIznbdV4Sloil93er12ryzX1uID9qs%2FxM9nURZT%2BQzeW2X%2BOOI6U%2F17rws3deqAPG1pmCOxLK1SkCgbFsZC%2Fazw5DeZX5vqi1wjw%2FUhpjCmetZA4e1f%2BuR7U6TpUIw2XcpovKcVN8G2iWTdvAzbC0B8dIfwdpeiBK0fdjW1k2deYgo%2B75Ehq3Uo0UM1rWzdvm6znwlVbUNQk2zqsBu%2FXIFypTm7swosI0Ilf%2FGwo%3D&amp;e=mclics%2Fpseudo-search-pads-buybox%2B7708%2Cmclics%2Fsearch-list-ad-algorithm%2B16026%2Cmclics%2Fshow-pads-search-list%2B5146%2Cmclics%2Fshow-pads-global%2B5176&amp;rb=x\" rel=\"nofollow,sponsored\" title=\"Cortina Moderna Enrollable Blackout 1.20 Ancho X 1.40 Alto\"><h2 aria-level=\"3\" class=\"ui-search-item__title\">Cortina Moderna Enrollable Blackout 1.20 Ancho X 1.40 Alto</h2></a>,\n",
       " <a class=\"ui-search-item__group__element ui-search-link\" href=\"https://click1.mercadolibre.com.co/mclics/clicks/external/MCO/count?a=BJ3mcSmZy%2Bj9RWTVOzRVmDq1DxSY9edSOCV6nbUmBj6JDnL1Gw5SpWFW%2BQ%2BI4VA0FrRx7fa3S6pU9w%2FDF%2BUBnSxO0Cp%2FikidjliiEUE%2FN4OCIlkYgch6J%2Fo45q%2BjkA1Gge5n1lwqSprCWLxnzAbX34eGvv9i6qPpK1zt7q6rOq%2BT%2F7l1AYFCYCUIIH1%2FLpnG1vRSytWFZrdzsaXuaHEIrk4RJljdVrBmuKSntmi36Lr%2Bg%2B%2BP5mnjKCwRrjH%2FdV4oEzbn1j5Odsja%2FiGtR2VylEcbaSiV5vQTiFa2LyYjpR64%2F2ZyIXCOuOR8Jig2fiVrfLAATZqAqNX1JxBQBjlGJ3H2aX4lgq8yuty1gRyxoLxpZFRqOIn3x1MuDJHtls7ECkeHHU%2BbE5FdHxf%2F5YGmp3y9oLR55i0UJqHYDzlxl2%2FT6cfvL2gLmwSEwkFC9radVrVU0X1j9sA0rGLl9WX9EokI%2FMLSAeIy%2BhSc2PKLdTnq3DfRDoabmGmQtMBFvRzJE1PySgg5Vtcd%2F2IlA8iaigWleH8%2Fy51PVugerAi4sU2bqaut8lBfG3owtTq%2BLhcHXjptYzZVkVFOM6hb4MDxyez7XfPX3opEAHNg6gjZmzXcv6%2FEJdA7K3ifS7LPY6QJe1HTyM2WLhZ%2Baug3aYAyqD1JdaaNfB4UWPm2aQR8Bdz91Ktijzn6fwqXXS%2BDug%3D%3D&amp;e=mclics%2Fpseudo-search-pads-buybox%2B7708%2Cmclics%2Fsearch-list-ad-algorithm%2B16026%2Cmclics%2Fshow-pads-search-list%2B5146%2Cmclics%2Fshow-pads-global%2B5176&amp;rb=x\" rel=\"nofollow,sponsored\" title=\"Cortina Blackout Enrollable 1.50x1.50\"><h2 aria-level=\"3\" class=\"ui-search-item__title\">Cortina Blackout Enrollable 1.50x1.50</h2></a>,\n",
       " <a class=\"ui-search-item__group__element ui-search-link\" href=\"https://www.mercadolibre.com.co/ventilador-turbo-silence-compact-2en1-ng-samurai-14-pulgadas/p/MCO18435781#searchVariation=MCO18435781&amp;position=14&amp;search_layout=stack&amp;type=product&amp;tracking_id=64ddca6b-96d2-4750-8c3d-bf0057814a38\" title=\"Ventilador Turbo Silence Compact 2en1 Ng Samurai 14 Pulgadas\t\"><h2 aria-level=\"3\" class=\"ui-search-item__title\">Ventilador Turbo Silence Compact 2en1 Ng Samurai 14 Pulgadas\t</h2></a>,\n",
       " <a class=\"ui-search-item__group__element ui-search-link\" href=\"https://www.mercadolibre.com.co/licuadora-imusa-infiny-force-10-175-l-gris-con-vaso-de-vidrio-120v/p/MCO19150270#searchVariation=MCO19150270&amp;position=15&amp;search_layout=stack&amp;type=product&amp;tracking_id=64ddca6b-96d2-4750-8c3d-bf0057814a38\" title=\"Licuadora Imusa Infiny Force 10 1.75 L gris con vaso de vidrio 120V\"><h2 aria-level=\"3\" class=\"ui-search-item__title\">Licuadora Imusa Infiny Force 10 1.75 L gris con vaso de vidrio 120V</h2></a>,\n",
       " <a class=\"ui-search-item__group__element ui-search-link\" href=\"https://www.mercadolibre.com.co/camara-de-seguridad-xiaomi-mi-360-home-security-camera-2k-pro-con-resolucion-de-3mp-vision-nocturna-incluida-blanca/p/MCO18597187#searchVariation=MCO18597187&amp;position=16&amp;search_layout=stack&amp;type=product&amp;tracking_id=64ddca6b-96d2-4750-8c3d-bf0057814a38\" title=\"Cámara de seguridad Xiaomi Mi 360° home security camera 2K pro con resolución de 3MP visión nocturna incluida blanca\"><h2 aria-level=\"3\" class=\"ui-search-item__title\">Cámara de seguridad Xiaomi Mi 360° home security camera 2K pro con resolución de 3MP visión nocturna incluida blanca</h2></a>,\n",
       " <a class=\"ui-search-item__group__element ui-search-link\" href=\"https://articulo.mercadolibre.com.co/MCO-570763171-interruptor-wifi-triple-sin-neutro-alexa-y-google-home-_JM#position=47&amp;search_layout=stack&amp;type=item&amp;tracking_id=64ddca6b-96d2-4750-8c3d-bf0057814a38\" title=\"Interruptor Wifi Triple Sin Neutro Alexa Y Google Home\"><h2 aria-level=\"3\" class=\"ui-search-item__title\">Interruptor Wifi Triple Sin Neutro Alexa Y Google Home</h2></a>,\n",
       " <a class=\"ui-search-item__group__element ui-search-link\" href=\"https://www.mercadolibre.com.co/termo-bomba-3l-doble-pared-acero-inoxidable-home-elements/p/MCO19725968#searchVariation=MCO19725968&amp;position=17&amp;search_layout=stack&amp;type=product&amp;tracking_id=64ddca6b-96d2-4750-8c3d-bf0057814a38\" title=\"Termo Bomba 3l Doble Pared Acero Inoxidable Home Elements\"><h2 aria-level=\"3\" class=\"ui-search-item__title\">Termo Bomba 3l Doble Pared Acero Inoxidable Home Elements</h2></a>,\n",
       " <a class=\"ui-search-item__group__element ui-search-link\" href=\"https://www.mercadolibre.com.co/portatil-dell-inspiron-3511-negra-156-intel-core-i5-1135g7-8gb-de-ram-256gb-ssd-intel-iris-xe-graphics-g7-80eus-60-hz-1920x1080px-windows-11-home/p/MCO19455626#searchVariation=MCO19455626&amp;position=18&amp;search_layout=stack&amp;type=product&amp;tracking_id=64ddca6b-96d2-4750-8c3d-bf0057814a38\" title='Portátil Dell Inspiron 3511 negra 15.6\", Intel Core i5 1135G7  8GB de RAM 256GB SSD, Intel Iris Xe Graphics G7 80EUs 60 Hz 1920x1080px Windows 11 Home'><h2 aria-level=\"3\" class=\"ui-search-item__title\">Portátil Dell Inspiron 3511 negra 15.6\", Intel Core i5 1135G7  8GB de RAM 256GB SSD, Intel Iris Xe Graphics G7 80EUs 60 Hz 1920x1080px Windows 11 Home</h2></a>,\n",
       " <a class=\"ui-search-item__group__element ui-search-link\" href=\"https://articulo.mercadolibre.com.co/MCO-822936749-cortinas-blackout-antiluz-220x270-argolla-_JM#position=48&amp;search_layout=stack&amp;type=item&amp;tracking_id=64ddca6b-96d2-4750-8c3d-bf0057814a38\" title=\"Cortinas Blackout Antiluz 2.20x2.70 Argolla\"><h2 aria-level=\"3\" class=\"ui-search-item__title\">Cortinas Blackout Antiluz 2.20x2.70 Argolla</h2></a>,\n",
       " <a class=\"ui-search-item__group__element ui-search-link\" href=\"https://www.mercadolibre.com.co/caminadora-electrica-goplus-rebound-110v-color-negro/p/MCO18562530#searchVariation=MCO18562530&amp;position=21&amp;search_layout=stack&amp;type=product&amp;tracking_id=64ddca6b-96d2-4750-8c3d-bf0057814a38\" title=\"Caminadora eléctrica Goplus Rebound 110V color  negro\"><h2 aria-level=\"3\" class=\"ui-search-item__title\">Caminadora eléctrica Goplus Rebound 110V color  negro</h2></a>,\n",
       " <a class=\"ui-search-item__group__element ui-search-link\" href=\"https://www.mercadolibre.com.co/apple-homepod-mini-naranja/p/MCO18611527#searchVariation=MCO18611527&amp;position=22&amp;search_layout=stack&amp;type=product&amp;tracking_id=64ddca6b-96d2-4750-8c3d-bf0057814a38\" title=\"Apple HomePod mini - Naranja\"><h2 aria-level=\"3\" class=\"ui-search-item__title\">Apple HomePod mini - Naranja</h2></a>,\n",
       " <a class=\"ui-search-item__group__element ui-search-link\" href=\"https://www.mercadolibre.com.co/banda-caminadora-trotadora-electrica-go-plus-homesale-25-hp/p/MCO24608014#searchVariation=MCO24608014&amp;position=23&amp;search_layout=stack&amp;type=product&amp;tracking_id=64ddca6b-96d2-4750-8c3d-bf0057814a38\" title=\"Banda Caminadora Trotadora Electrica Go Plus Homesale  2.5 Hp \"><h2 aria-level=\"3\" class=\"ui-search-item__title\">Banda Caminadora Trotadora Electrica Go Plus Homesale  2.5 Hp </h2></a>,\n",
       " <a class=\"ui-search-item__group__element ui-search-link\" href=\"https://www.mercadolibre.com.co/ganchos-para-ropa-madera-natural-8-piezas-calidad/p/MCO22752898#searchVariation=MCO22752898&amp;position=24&amp;search_layout=stack&amp;type=product&amp;tracking_id=64ddca6b-96d2-4750-8c3d-bf0057814a38\" title=\"Ganchos Para Ropa Madera Natural 8 Piezas Calidad\"><h2 aria-level=\"3\" class=\"ui-search-item__title\">Ganchos Para Ropa Madera Natural 8 Piezas Calidad</h2></a>,\n",
       " <a class=\"ui-search-item__group__element ui-search-link\" href=\"https://www.mercadolibre.com.co/freidora-de-aire-imusa-easy-fry-deluxe-42l-digital/p/MCO19741329#searchVariation=MCO19741329&amp;position=25&amp;search_layout=stack&amp;type=product&amp;tracking_id=64ddca6b-96d2-4750-8c3d-bf0057814a38\" title=\"Freidora De Aire Imusa Easy Fry Deluxe 4,2l Digital\"><h2 aria-level=\"3\" class=\"ui-search-item__title\">Freidora De Aire Imusa Easy Fry Deluxe 4,2l Digital</h2></a>,\n",
       " <a class=\"ui-search-item__group__element ui-search-link\" href=\"https://articulo.mercadolibre.com.co/MCO-592242664-cortina-moderna-enrollable-blackout-140-ancho-x-140-alto-_JM#position=49&amp;search_layout=stack&amp;type=item&amp;tracking_id=64ddca6b-96d2-4750-8c3d-bf0057814a38\" title=\"Cortina Moderna Enrollable Blackout 1.40 Ancho X 1.40 Alto\"><h2 aria-level=\"3\" class=\"ui-search-item__title\">Cortina Moderna Enrollable Blackout 1.40 Ancho X 1.40 Alto</h2></a>,\n",
       " <a class=\"ui-search-item__group__element ui-search-link\" href=\"https://articulo.mercadolibre.com.co/MCO-543261883-interruptor-tactil-de-1-con-wifi-google-home-y-alexa-_JM#position=50&amp;search_layout=stack&amp;type=item&amp;tracking_id=64ddca6b-96d2-4750-8c3d-bf0057814a38\" title=\"Interruptor Tactil De 1 Con Wifi Google Home Y Alexa\"><h2 aria-level=\"3\" class=\"ui-search-item__title\">Interruptor Tactil De 1 Con Wifi Google Home Y Alexa</h2></a>,\n",
       " <a class=\"ui-search-item__group__element ui-search-link\" href=\"https://www.mercadolibre.com.co/licuadora-imusa-powermix-glass-2-l-blanca-con-vaso-de-vidrio-110v-120v/p/MCO22915294#searchVariation=MCO22915294&amp;position=26&amp;search_layout=stack&amp;type=product&amp;tracking_id=64ddca6b-96d2-4750-8c3d-bf0057814a38\" title=\"Licuadora Imusa Powermix Glass 2 L blanca con vaso de vidrio 110V - 120V\"><h2 aria-level=\"3\" class=\"ui-search-item__title\">Licuadora Imusa Powermix Glass 2 L blanca con vaso de vidrio 110V - 120V</h2></a>,\n",
       " <a class=\"ui-search-item__group__element ui-search-link\" href=\"https://articulo.mercadolibre.com.co/MCO-596005357-bombillo-wifi-inteligente-led-regulabe-google-home-home-_JM#position=51&amp;search_layout=stack&amp;type=item&amp;tracking_id=64ddca6b-96d2-4750-8c3d-bf0057814a38\" title=\"Bombillo Wifi Inteligente Led Regulabe Google Home Home\"><h2 aria-level=\"3\" class=\"ui-search-item__title\">Bombillo Wifi Inteligente Led Regulabe Google Home Home</h2></a>,\n",
       " <a class=\"ui-search-item__group__element ui-search-link\" href=\"https://www.mercadolibre.com.co/olla-arrocera-imusa-5-tazas-gris/p/MCO21323351#searchVariation=MCO21323351&amp;position=27&amp;search_layout=stack&amp;type=product&amp;tracking_id=64ddca6b-96d2-4750-8c3d-bf0057814a38\" title=\"Olla Arrocera Imusa 5 Tazas Gris\"><h2 aria-level=\"3\" class=\"ui-search-item__title\">Olla Arrocera Imusa 5 Tazas Gris</h2></a>,\n",
       " <a class=\"ui-search-item__group__element ui-search-link\" href=\"https://www.mercadolibre.com.co/portatil-hp-245-g8-negra-14-amd-ryzen-5-5500u-8gb-de-ram-256gb-ssd-amd-radeon-rx-vega-7-1366x768px-windows-11-home/p/MCO19904824#searchVariation=MCO19904824&amp;position=28&amp;search_layout=stack&amp;type=product&amp;tracking_id=64ddca6b-96d2-4750-8c3d-bf0057814a38\" title='Portátil HP 245 G8 negra 14\", AMD Ryzen 5 5500U  8GB de RAM 256GB SSD, AMD Radeon RX Vega 7 1366x768px Windows 11 Home'><h2 aria-level=\"3\" class=\"ui-search-item__title\">Portátil HP 245 G8 negra 14\", AMD Ryzen 5 5500U  8GB de RAM 256GB SSD, AMD Radeon RX Vega 7 1366x768px Windows 11 Home</h2></a>,\n",
       " <a class=\"ui-search-item__group__element ui-search-link\" href=\"https://www.mercadolibre.com.co/olla-a-presion-home-elements-2-litros-5-sistemas-seguridad-heop20l/p/MCO19950925#searchVariation=MCO19950925&amp;position=29&amp;search_layout=stack&amp;type=product&amp;tracking_id=64ddca6b-96d2-4750-8c3d-bf0057814a38\" title=\"Olla a presión Home Elements 2 Litros 5 sistemas seguridad HEOP20L\"><h2 aria-level=\"3\" class=\"ui-search-item__title\">Olla a presión Home Elements 2 Litros 5 sistemas seguridad HEOP20L</h2></a>,\n",
       " <a class=\"ui-search-item__group__element ui-search-link\" href=\"https://articulo.mercadolibre.com.co/MCO-557594657-interruptor-tactil-triple-wifi-google-home-y-alexa-_JM#position=52&amp;search_layout=stack&amp;type=item&amp;tracking_id=64ddca6b-96d2-4750-8c3d-bf0057814a38\" title=\"Interruptor Tactil Triple Wifi Google Home Y Alexa \"><h2 aria-level=\"3\" class=\"ui-search-item__title\">Interruptor Tactil Triple Wifi Google Home Y Alexa </h2></a>,\n",
       " <a class=\"ui-search-item__group__element ui-search-link\" href=\"https://www.mercadolibre.com.co/sanduchera-basic-imusa-1510001744/p/MCO22653935#searchVariation=MCO22653935&amp;position=30&amp;search_layout=stack&amp;type=product&amp;tracking_id=64ddca6b-96d2-4750-8c3d-bf0057814a38\" title=\"Sanduchera Basic Imusa 1510001744\"><h2 aria-level=\"3\" class=\"ui-search-item__title\">Sanduchera Basic Imusa 1510001744</h2></a>,\n",
       " <a class=\"ui-search-item__group__element ui-search-link\" href=\"https://www.mercadolibre.com.co/cortadora-de-pelo-wahl-home-easy-cut-negra-127v/p/MCO16144622#searchVariation=MCO16144622&amp;position=31&amp;search_layout=stack&amp;type=product&amp;tracking_id=64ddca6b-96d2-4750-8c3d-bf0057814a38\" title=\"Cortadora de pelo Wahl Home Easy Cut negra 127V\"><h2 aria-level=\"3\" class=\"ui-search-item__title\">Cortadora de pelo Wahl Home Easy Cut negra 127V</h2></a>,\n",
       " <a class=\"ui-search-item__group__element ui-search-link\" href=\"https://www.mercadolibre.com.co/termo-para-cafe-termo-en-acero-inoxidable-termo-1-litro-y-9/p/MCO20521093#searchVariation=MCO20521093&amp;position=32&amp;search_layout=stack&amp;type=product&amp;tracking_id=64ddca6b-96d2-4750-8c3d-bf0057814a38\" title=\"Termo Para Cafe Termo En Acero Inoxidable Termo 1 Litro Y 9\"><h2 aria-level=\"3\" class=\"ui-search-item__title\">Termo Para Cafe Termo En Acero Inoxidable Termo 1 Litro Y 9</h2></a>,\n",
       " <a class=\"ui-search-item__group__element ui-search-link\" href=\"https://www.mercadolibre.com.co/enchufe-inteligente-wi-fi-nexxt-home-smart/p/MCO21295629#searchVariation=MCO21295629&amp;position=33&amp;search_layout=stack&amp;type=product&amp;tracking_id=64ddca6b-96d2-4750-8c3d-bf0057814a38\" title=\"Enchufe Inteligente Wi-fi Nexxt Home Smart\"><h2 aria-level=\"3\" class=\"ui-search-item__title\">Enchufe Inteligente Wi-fi Nexxt Home Smart</h2></a>,\n",
       " <a class=\"ui-search-item__group__element ui-search-link\" href=\"https://www.mercadolibre.com.co/licuadora-imusa-infiny-force-xl-10-22-l-negra-con-vaso-de-vidrio-110v-120v/p/MCO19540447#searchVariation=MCO19540447&amp;position=34&amp;search_layout=stack&amp;type=product&amp;tracking_id=64ddca6b-96d2-4750-8c3d-bf0057814a38\" title=\"Licuadora Imusa Infiny Force XL 10 2.2 L negra con vaso de vidrio 110V - 120V\"><h2 aria-level=\"3\" class=\"ui-search-item__title\">Licuadora Imusa Infiny Force XL 10 2.2 L negra con vaso de vidrio 110V - 120V</h2></a>,\n",
       " <a class=\"ui-search-item__group__element ui-search-link\" href=\"https://articulo.mercadolibre.com.co/MCO-600489466-cortina-moderna-enrollable-blackout-130-x-130-_JM#position=53&amp;search_layout=stack&amp;type=item&amp;tracking_id=64ddca6b-96d2-4750-8c3d-bf0057814a38\" title=\"Cortina Moderna Enrollable Blackout 1.30 X 1.30\"><h2 aria-level=\"3\" class=\"ui-search-item__title\">Cortina Moderna Enrollable Blackout 1.30 X 1.30</h2></a>,\n",
       " <a class=\"ui-search-item__group__element ui-search-link\" href=\"https://www.mercadolibre.com.co/caminadora-electrica-home-sale-serene-110v220v-color-negro-y-gris/p/MCO19119953#searchVariation=MCO19119953&amp;position=35&amp;search_layout=stack&amp;type=product&amp;tracking_id=64ddca6b-96d2-4750-8c3d-bf0057814a38\" title=\"Caminadora eléctrica Home Sale Serene 110V/220V color  negro y gris\"><h2 aria-level=\"3\" class=\"ui-search-item__title\">Caminadora eléctrica Home Sale Serene 110V/220V color  negro y gris</h2></a>,\n",
       " <a class=\"ui-search-item__group__element ui-search-link\" href=\"https://www.mercadolibre.com.co/ventilador-air-protec-maxx-samurai-2-en-1-blanco-5861027399/p/MCO21319020#searchVariation=MCO21319020&amp;position=36&amp;search_layout=stack&amp;type=product&amp;tracking_id=64ddca6b-96d2-4750-8c3d-bf0057814a38\" title=\"Ventilador Air Protec Maxx Samurai 2 En 1 Blanco 5861027399\"><h2 aria-level=\"3\" class=\"ui-search-item__title\">Ventilador Air Protec Maxx Samurai 2 En 1 Blanco 5861027399</h2></a>,\n",
       " <a class=\"ui-search-item__group__element ui-search-link\" href=\"https://www.mercadolibre.com.co/silla-de-escritorio-ejecutiva-para-oficina-ergonomica/p/MCO23814988#searchVariation=MCO23814988&amp;position=37&amp;search_layout=stack&amp;type=product&amp;tracking_id=64ddca6b-96d2-4750-8c3d-bf0057814a38\" title=\"Silla De Escritorio Ejecutiva Para Oficina Ergonómica \"><h2 aria-level=\"3\" class=\"ui-search-item__title\">Silla De Escritorio Ejecutiva Para Oficina Ergonómica </h2></a>,\n",
       " <a class=\"ui-search-item__group__element ui-search-link\" href=\"https://articulo.mercadolibre.com.co/MCO-551856954-switch-interruptor-wifi-sin-neutro-1-tactil-google-home-mini-_JM#position=54&amp;search_layout=stack&amp;type=item&amp;tracking_id=64ddca6b-96d2-4750-8c3d-bf0057814a38\" title=\"Switch Interruptor Wifi Sin Neutro 1 Tactil Google Home Mini\"><h2 aria-level=\"3\" class=\"ui-search-item__title\">Switch Interruptor Wifi Sin Neutro 1 Tactil Google Home Mini</h2></a>,\n",
       " <a class=\"ui-search-item__group__element ui-search-link\" href=\"https://www.mercadolibre.com.co/camara-ip-wifi-vigilancia-alarma-app-v380-robotica-espanol/p/MCO19678230#searchVariation=MCO19678230&amp;position=38&amp;search_layout=stack&amp;type=product&amp;tracking_id=64ddca6b-96d2-4750-8c3d-bf0057814a38\" title=\"Camara Ip Wifi Vigilancia Alarma App V380 Robotica Español\"><h2 aria-level=\"3\" class=\"ui-search-item__title\">Camara Ip Wifi Vigilancia Alarma App V380 Robotica Español</h2></a>,\n",
       " <a class=\"ui-search-item__group__element ui-search-link\" href=\"https://articulo.mercadolibre.com.co/MCO-1125098575-carro-organizador-expressions-storage-4-niveles-_JM#position=55&amp;search_layout=stack&amp;type=item&amp;tracking_id=64ddca6b-96d2-4750-8c3d-bf0057814a38\" title=\"Carro Organizador Expressions Storage 4 Niveles\"><h2 aria-level=\"3\" class=\"ui-search-item__title\">Carro Organizador Expressions Storage 4 Niveles</h2></a>,\n",
       " <a class=\"ui-search-item__group__element ui-search-link\" href=\"https://www.mercadolibre.com.co/freidora-de-aire-imusa-esencial-de-32l-color-negro-110v-120v/p/MCO19641189#searchVariation=MCO19641189&amp;position=39&amp;search_layout=stack&amp;type=product&amp;tracking_id=64ddca6b-96d2-4750-8c3d-bf0057814a38\" title=\"Freidora de aire Imusa Esencial de 3.2L color negro 110V-120V\"><h2 aria-level=\"3\" class=\"ui-search-item__title\">Freidora de aire Imusa Esencial de 3.2L color negro 110V-120V</h2></a>,\n",
       " <a class=\"ui-search-item__group__element ui-search-link\" href=\"https://www.mercadolibre.com.co/cortadora-de-pelo-wahl-home-color-code-09155-2708-110v/p/MCO10153456#searchVariation=MCO10153456&amp;position=40&amp;search_layout=stack&amp;type=product&amp;tracking_id=64ddca6b-96d2-4750-8c3d-bf0057814a38\" title=\"Cortadora de pelo Wahl Home Color Code 09155-2708 110V\"><h2 aria-level=\"3\" class=\"ui-search-item__title\">Cortadora de pelo Wahl Home Color Code 09155-2708 110V</h2></a>,\n",
       " <a class=\"ui-search-item__group__element ui-search-link\" href=\"https://www.mercadolibre.com.co/tensiometro-digital-de-brazo-profesional-cargador/p/MCO19920138#searchVariation=MCO19920138&amp;position=41&amp;search_layout=stack&amp;type=product&amp;tracking_id=64ddca6b-96d2-4750-8c3d-bf0057814a38\" title=\"Tensiómetro Digital De Brazo Profesional  + Cargador\"><h2 aria-level=\"3\" class=\"ui-search-item__title\">Tensiómetro Digital De Brazo Profesional  + Cargador</h2></a>,\n",
       " <a class=\"ui-search-item__group__element ui-search-link\" href=\"https://articulo.mercadolibre.com.co/MCO-1131157026-enchufe-inteligente-wifi-15a-alexa-y-google-smart-life-_JM#position=56&amp;search_layout=stack&amp;type=item&amp;tracking_id=64ddca6b-96d2-4750-8c3d-bf0057814a38\" title=\"Enchufe Inteligente Wifi 15a - Alexa Y Google - Smart Life\"><h2 aria-level=\"3\" class=\"ui-search-item__title\">Enchufe Inteligente Wifi 15a - Alexa Y Google - Smart Life</h2></a>]"
      ]
     },
     "execution_count": 49,
     "metadata": {},
     "output_type": "execute_result"
    }
   ],
   "source": [
    "a_tags"
   ]
  },
  {
   "cell_type": "code",
   "execution_count": null,
   "metadata": {},
   "outputs": [],
   "source": []
  }
 ],
 "metadata": {
  "kernelspec": {
   "display_name": "venv",
   "language": "python",
   "name": "python3"
  },
  "language_info": {
   "codemirror_mode": {
    "name": "ipython",
    "version": 3
   },
   "file_extension": ".py",
   "mimetype": "text/x-python",
   "name": "python",
   "nbconvert_exporter": "python",
   "pygments_lexer": "ipython3",
   "version": "3.10.9"
  },
  "orig_nbformat": 4
 },
 "nbformat": 4,
 "nbformat_minor": 2
}
